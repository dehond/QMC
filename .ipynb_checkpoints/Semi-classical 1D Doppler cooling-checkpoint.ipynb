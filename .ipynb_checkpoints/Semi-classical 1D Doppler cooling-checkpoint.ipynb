{
 "cells": [
  {
   "cell_type": "code",
   "execution_count": 1,
   "metadata": {},
   "outputs": [],
   "source": [
    "import numpy as np\n",
    "import matplotlib.pyplot as plt\n",
    "import random\n",
    "from IPython.display import clear_output\n",
    "import csv"
   ]
  },
  {
   "cell_type": "markdown",
   "metadata": {},
   "source": [
    "# Semi-classical one-dimensional Doppler cooling"
   ]
  },
  {
   "cell_type": "markdown",
   "metadata": {},
   "source": [
    "Let's use a semi-classical framework to do a Quantum Monte Carlo calculation of Doppler cooling. We'll use the same setup as in the example by [Mølmer _et al._ ](https://www.osapublishing.org/josab/abstract.cfm?URI=josab-10-3-524) so that we can compare the performance. This will be semi-classical in the sense that the external state of the atom is classical, while the internal state is not. This dramatically reduces the basis size since we don't have to account for momentum states. The master's thesis by [Renauld Chrétien](https://orbi.uliege.be/handle/2268/212746) also contains some useful derivations.\n",
    "\n",
    "We start out from the following Hamiltonian:\n",
    "$$H = \\frac{\\hat{p}^2}{2m} + \\hbar \\Omega\\cos(k \\hat{x}) \\left( |g\\rangle\\langle e| + |e\\rangle\\langle g| \\right) - \\hbar\\delta|e\\rangle\\langle e|,$$\n",
    "which is now understood to _only_ couple to the interal part of the wave function. "
   ]
  },
  {
   "cell_type": "markdown",
   "metadata": {},
   "source": [
    "We assume Na atoms, the relevant parameters are defined below:"
   ]
  },
  {
   "cell_type": "code",
   "execution_count": 2,
   "metadata": {},
   "outputs": [],
   "source": [
    "m = 3.8175409E-26 #Sodium mass\n",
    "hbar = 1.05457E-34\n",
    "k = 2*np.pi/(589E-9)\n",
    "Gamma = 200*hbar*k**2/m"
   ]
  },
  {
   "cell_type": "markdown",
   "metadata": {},
   "source": [
    "Laser parameters: Rabi frequency and detuning:"
   ]
  },
  {
   "cell_type": "code",
   "execution_count": 3,
   "metadata": {},
   "outputs": [],
   "source": [
    "Omega = Gamma/2\n",
    "delta = -Gamma/2"
   ]
  },
  {
   "cell_type": "markdown",
   "metadata": {},
   "source": [
    "Numerical parameters, such as step size:"
   ]
  },
  {
   "cell_type": "code",
   "execution_count": 4,
   "metadata": {},
   "outputs": [],
   "source": [
    "dt = 1/(100*Gamma) #1/(1000*Gamma)\n",
    "tend = 2000/Gamma\n",
    "timeax = np.arange(0, tend, dt)\n",
    "nsteps = len(timeax)"
   ]
  },
  {
   "cell_type": "markdown",
   "metadata": {},
   "source": [
    "The function that we define here takes a step. This is similar to an Euler method for solving differential equations. In principle these methods are bad for solving Hamiltonians because they are not norm preserving (unless one takes very small steps). This doesn't matter so much, because the QMC method renormalizes the wave function after every step.\n",
    "\n",
    "In the semi-classical case, we define the wave function as $|\\psi\\rangle = \\alpha |g\\rangle + \\beta |e\\rangle$ with classical position $x$ and momentum $p$. We measure momentum in recoil momenta ($\\hbar k$) and position in meters. The prescription for an update looks like:\n",
    "$$\n",
    "    \\begin{align}\n",
    "    \\alpha &\\mapsto \\alpha - i\\,dt\\left( \\frac{\\hbar (kp)^2}{2m}\\alpha + \\Omega \\cos(kx)\\beta \\right) \\\\ \n",
    "    \\beta &\\mapsto \\beta - i\\,dt\\left( \\frac{\\hbar (kp)^2}{2m}\\beta + \\Omega \\cos(kx)\\alpha - \\delta\\beta - \\frac{i\\Gamma\\beta}{2} \\right) \\\\\n",
    "    p &\\mapsto p + 2dt\\,\\Omega\\sin(kx) \\, \\Re\\left(\\alpha \\beta^*\\right) \\\\\n",
    "    x &\\mapsto x + dt\\frac{\\hbar k p}{m}\n",
    "    \\end{align}\n",
    "$$\n",
    "Here we used the classical force $F = -\\langle \\psi | \\nabla \\mathcal{H} | \\psi \\rangle = 2\\Omega\\sin(kx) \\, \\Re\\left(\\alpha \\beta^*\\right)$ in order to get an expression for the change in momentum $p$. Note that the expression for $\\beta$ has a term making the total Hamiltonian non-Hermitian. This is to simulate 'probability leaking out' of the excited state due to emission. "
   ]
  },
  {
   "cell_type": "code",
   "execution_count": 5,
   "metadata": {},
   "outputs": [],
   "source": [
    "def step(alpha, beta, p, x):\n",
    "    alphaN = alpha - 1j * dt * (hbar*(k*p)**2/(2*m) * alpha + Omega * np.cos(k*x) * beta)\n",
    "    betaN = beta - 1j * dt * (hbar*(k*p)**2/(2*m) * beta + Omega * np.cos(k*x) * alpha - delta*beta - 1j*Gamma*beta/2)\n",
    "    pN = p + dt*Omega*np.sin(k*x) * 2*np.real(alpha * np.conj(beta))\n",
    "    xN = x + dt*(hbar*k*p)/m\n",
    "\n",
    "    return alphaN, betaN, pN, xN"
   ]
  },
  {
   "cell_type": "markdown",
   "metadata": {},
   "source": [
    "Below we define the function that calculates one Monte Carlo trajectory. It returns the wave function coefficients of $|g\\rangle$ and $|e\\rangle$, and the atom its position and momentum. We initialize everything in the ground state, at $x=0$ and $p=0$. Then we draw random numbers to determine what will happen at every step (this is much faster than drawing a new number every step) and then we start stepping. The probability of decay is given by $dp = \\beta\\Gamma dt$.\n",
    "\n",
    "If a jump happens we use the weighted probability as given by Mølmer _et al._ to determine whether there's a momentum kick in the $\\pm z$ direction or whether there's no net momentum transfer. We add the initially absorbed photon to this, since that's not accounted for yet. \n",
    "\n",
    "If there's no jump we normalize the wavefunction by doing $\\alpha \\mapsto \\alpha/\\sqrt{1-dp}$ and $\\beta \\mapsto \\beta/\\sqrt{1-dp}$, since $dp$ is the probability that has 'leaked out' of the system."
   ]
  },
  {
   "cell_type": "code",
   "execution_count": 6,
   "metadata": {},
   "outputs": [],
   "source": [
    "def MCTrajectory():\n",
    "    alphaO = 1.0\n",
    "    betaO = 0.0\n",
    "    pO = 0.0\n",
    "    xO = 0.0\n",
    "\n",
    "    alpha = np.zeros(len(timeax), dtype=complex)\n",
    "    beta = np.zeros(len(timeax), dtype=complex)\n",
    "    p = np.zeros(len(timeax))\n",
    "    x = np.zeros(len(timeax))\n",
    "    \n",
    "    alpha[0] = alphaO\n",
    "    beta[0] = betaO\n",
    "    p[0] = pO\n",
    "    x[0] = xO\n",
    "    \n",
    "    # Draw MC numbers\n",
    "    rs = np.random.random(len(timeax))\n",
    "\n",
    "    for i in range(1, len(timeax)):\n",
    "        (alphaO, betaO, pO, xO) = step(alphaO, betaO, pO, xO)\n",
    "\n",
    "        # Do we make a jump?\n",
    "        dp = Gamma*dt*np.abs(betaO)**2\n",
    "        r = rs[i]\n",
    "        if r <= dp:\n",
    "            # We make a jump: population back to |g> and give a random kick\n",
    "            alphaO = betaO/np.abs(betaO)\n",
    "            betaO = 0.0\n",
    "            pO += random.choice([1.0, 1.0, 1.0, -1.0, -1.0, -1.0, 0.0, 0.0, 2.0, -2.0])\n",
    "        else:\n",
    "            # We don't make a jump; renormalize the wave function\n",
    "            alphaO = alphaO / np.sqrt(1 - dp)\n",
    "            betaO = betaO / np.sqrt(1 - dp)\n",
    "\n",
    "        alpha[i] = alphaO\n",
    "        beta[i] = betaO\n",
    "        p[i] = pO\n",
    "        x[i] = xO\n",
    "    return alpha, beta, p, x"
   ]
  },
  {
   "cell_type": "markdown",
   "metadata": {},
   "source": [
    "Now we run a bunch of trajectories, this takes some time. "
   ]
  },
  {
   "cell_type": "code",
   "execution_count": 7,
   "metadata": {},
   "outputs": [],
   "source": [
    "ntraj = 500\n",
    "\n",
    "alphaPopAve = np.zeros(len(timeax))\n",
    "betaPopAve = np.zeros(len(timeax))\n",
    "pSqAve = np.zeros(len(timeax))\n",
    "xAve = np.zeros(len(timeax))\n",
    "\n",
    "for i in range(ntraj):\n",
    "    (alphaSim, betaSim, pSim, xSim) = MCTrajectory()\n",
    "    alphaPopAve += np.abs(alphaSim)**2 / ntraj\n",
    "    betaPopAve += np.abs(betaSim)**2 / ntraj\n",
    "    pSqAve += pSim**2 / ntraj\n",
    "    xAve += xSim / ntraj\n",
    "\n",
    "    clear_output()\n",
    "    print(i)\n",
    "clear_output()"
   ]
  },
  {
   "cell_type": "markdown",
   "metadata": {},
   "source": [
    "Export the expectation values:"
   ]
  },
  {
   "cell_type": "code",
   "execution_count": 8,
   "metadata": {},
   "outputs": [],
   "source": [
    "filename = 'semiclassical-doppler-cooling.csv'\n",
    "data = np.transpose([timeax, alphaPopAve, betaPopAve, pSqAve, xAve])\n",
    "with open(filename, 'w') as file:\n",
    "    writer = csv.writer(file, delimiter=',')\n",
    "    writer.writerow(['time', 'alpha', 'beta', 'p^2', 'x'])\n",
    "    for row in data:\n",
    "        writer.writerow(row)"
   ]
  },
  {
   "cell_type": "markdown",
   "metadata": {},
   "source": [
    "Let's plot the excpectation value $\\langle p^2 \\rangle$. We compare it to the fully quantized calculation as well."
   ]
  },
  {
   "cell_type": "code",
   "execution_count": 39,
   "metadata": {},
   "outputs": [],
   "source": [
    "filename = 'qmc_1d_doppler.csv'\n",
    "quantDat = np.genfromtxt(filename, delimiter = ',')"
   ]
  },
  {
   "cell_type": "code",
   "execution_count": 55,
   "metadata": {},
   "outputs": [
    {
     "data": {
      "image/png": "[encoded data removed]",
      "text/plain": [
       "<Figure size 720x432 with 1 Axes>"
      ]
     },
     "metadata": {
      "needs_background": "light"
     },
     "output_type": "display_data"
    }
   ],
   "source": [
    "fig, ax = plt.subplots(figsize = (10,6))\n",
    "ax.plot(Gamma*timeax, pSqAve)\n",
    "ax.plot(quantDat[:, 0], quantDat[:, 1])\n",
    "plt.xlabel(r'time ($\\Gamma^{-1}$)', fontsize=14)\n",
    "plt.ylabel(r'$\\langle p^2 \\rangle$ [$\\left(\\hbar k\\right)^2$]', fontsize=14)\n",
    "ax.tick_params(axis='both', which='major', labelsize=15)\n",
    "ax.legend(['Semi-classical', 'Quantum'], fontsize = 14)\n",
    "plt.show()"
   ]
  },
  {
   "cell_type": "code",
   "execution_count": null,
   "metadata": {},
   "outputs": [],
   "source": []
  }
 ],
 "metadata": {
  "kernelspec": {
   "display_name": "Python 3",
   "language": "python",
   "name": "python3"
  },
  "language_info": {
   "codemirror_mode": {
    "name": "ipython",
    "version": 3
   },
   "file_extension": ".py",
   "mimetype": "text/x-python",
   "name": "python",
   "nbconvert_exporter": "python",
   "pygments_lexer": "ipython3",
   "version": "3.7.3"
  }
 },
 "nbformat": 4,
 "nbformat_minor": 2
}
