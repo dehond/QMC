{
 "cells": [
  {
   "cell_type": "code",
   "execution_count": 1,
   "metadata": {},
   "outputs": [],
   "source": [
    "from qutip import *\n",
    "import numpy as np\n",
    "import matplotlib.pyplot as plt\n",
    "import csv"
   ]
  },
  {
   "cell_type": "markdown",
   "metadata": {},
   "source": [
    "## One-dimensional Doppler cooling"
   ]
  },
  {
   "cell_type": "markdown",
   "metadata": {},
   "source": [
    "Let's try to use a quantum Monte Carlo calculation to simulate Doppler cooling in one dimension. We'll lean heavily on Section 5F in this paper by Mølmer, Castin, and Dalibard (<https://www.osapublishing.org/josab/abstract.cfm?URI=josab-10-3-524>).\n",
    "\n",
    "They assume a two internal levels, $|g, m_g = J_g\\rangle$ and $|e, m_e = J_e + 1\\rangle$ that are coupled by a standing wave of $\\sigma^+$ light, and use the following Hamiltonian:\n",
    "$$H = \\frac{\\hat{p}^2}{2m} + \\hbar \\Omega\\cos(k \\hat{x}) \\left( |g\\rangle\\langle e| + |e\\rangle\\langle g| \\right) - \\hbar\\delta|e\\rangle\\langle e|.$$\n",
    "\n",
    "For some reason they drop the $\\cos(k \\hat{x})$, perhaps because it's assumed to average out to some value? Either way, following the example we set up a momentum basis and a two-level system."
   ]
  },
  {
   "cell_type": "markdown",
   "metadata": {},
   "source": [
    "First we define the simulation aprameters, and construct an initial state in the basis $\\left\\{ |g\\rangle, |e\\rangle \\right\\}\\otimes \\left\\{ |p = -n_\\mathrm{max}\\hbar k\\rangle \\cdots |p = n_\\mathrm{max}\\hbar k \\right\\}$ such that $|\\psi(t = 0)\\rangle = |g, p = 0 \\rangle$"
   ]
  },
  {
   "cell_type": "code",
   "execution_count": 2,
   "metadata": {},
   "outputs": [],
   "source": [
    "nmax = 50\n",
    "\n",
    "mRb = 3.8175409E-26 #actually Na-23 mass, somewhat confusing.\n",
    "hbar = 1.05457E-34\n",
    "hbarOvermRb = hbar/mRb     #This is needed for some precision problem\n",
    "\n",
    "k = 2*np.pi/589E-9\n",
    "Gamma = 200*hbar*k**2/mRb #2*np.pi * 6.065E6\n",
    "Omega = Gamma/2\n",
    "delta = -Gamma/2\n",
    "\n",
    "psi0 = tensor(basis(2,0), basis(2*nmax + 1, nmax))"
   ]
  },
  {
   "cell_type": "markdown",
   "metadata": {},
   "source": [
    "Next we set up the Hamiltonian matrices. We have to take care that all the momentum couplings are accounted for. We want the processes:\n",
    "$$\n",
    "|g, 2n\\hbar k \\rangle \\rightarrow |e, (2n + 1)\\hbar k \\rangle \\\\\n",
    "|g, 2n\\hbar k \\rangle \\rightarrow |e, (2n - 1)\\hbar k \\rangle \\\\\n",
    "|e, (2n + 1)\\hbar k \\rangle \\rightarrow |g, 2(n + 1)\\hbar k \\rangle \\\\\n",
    "|e, (2n + 1)\\hbar k \\rangle \\rightarrow |g, 2n\\hbar k \\rangle.\n",
    "$$\n",
    "In the QuTiP framework we can use a `tunneling(N, M)` matrix with `M = 1` for the momentum part (this basically describes nearest-neighbor tunneling in some basis). The internal state coupling is simply described by a $\\sigma_x$ matrix."
   ]
  },
  {
   "cell_type": "code",
   "execution_count": 3,
   "metadata": {},
   "outputs": [],
   "source": [
    "coupling = tensor(sigmax(), tunneling(2*nmax + 1, 1))"
   ]
  },
  {
   "cell_type": "markdown",
   "metadata": {},
   "source": [
    "We also need to set up a momentum operator. This can simply be done using the `charge(N)` matrix from QuTiP. This leaves the internal state of the atom unaffected, so for that we simply use `qeye(2)`."
   ]
  },
  {
   "cell_type": "code",
   "execution_count": 4,
   "metadata": {},
   "outputs": [],
   "source": [
    "momentum = tensor(qeye(2), charge(nmax))"
   ]
  },
  {
   "cell_type": "markdown",
   "metadata": {},
   "source": [
    "For the last term in $H$ we need an operator in $|e\\rangle\\langle e|$, again we use `qeye()` to take the unaffected part of the basis along."
   ]
  },
  {
   "cell_type": "code",
   "execution_count": 5,
   "metadata": {},
   "outputs": [],
   "source": [
    "Pe = tensor(basis(2, 1).proj(), qeye(2*nmax + 1))"
   ]
  },
  {
   "cell_type": "markdown",
   "metadata": {},
   "source": [
    "The Hamiltonian is good to go, we just need the dephasing now. This is a jump operator $\\sqrt{\\Gamma}|g\\rangle\\langle e|$, but following Mølmer _et al._ we need to assign different scattering directions different probabilities. Specifically, they set the probability for $C_{\\pm k}$ to 1/5, and that for $C_{0}$ to 3/5."
   ]
  },
  {
   "cell_type": "code",
   "execution_count": 6,
   "metadata": {},
   "outputs": [],
   "source": [
    "decay = Qobj([[0, 1], [0, 0]])\n",
    "C0 = np.sqrt(3/5 * Gamma) * tensor(decay, qeye(2*nmax + 1))\n",
    "Cmk = np.sqrt(1/5 * Gamma) * tensor(decay, qdiags(np.ones(2*nmax), 1))\n",
    "Cpk = np.sqrt(1/5 * Gamma) * tensor(decay, qdiags(np.ones(2*nmax), -1))\n",
    "\n",
    "Cs = [C0, Cmk, Cpk]"
   ]
  },
  {
   "cell_type": "code",
   "execution_count": 7,
   "metadata": {},
   "outputs": [],
   "source": [
    "H = hbarOvermRb*(k*momentum)**2/2 + Omega/2 * coupling - delta * Pe"
   ]
  },
  {
   "cell_type": "markdown",
   "metadata": {},
   "source": [
    "We define the squared momentum as the observable."
   ]
  },
  {
   "cell_type": "code",
   "execution_count": 8,
   "metadata": {},
   "outputs": [
    {
     "name": "stdout",
     "output_type": "stream",
     "text": [
      "10.0%. Run time:  40.43s. Est. time left: 00:00:06:03\n",
      "20.0%. Run time:  79.93s. Est. time left: 00:00:05:19\n",
      "30.0%. Run time: 116.47s. Est. time left: 00:00:04:31\n",
      "40.0%. Run time: 152.88s. Est. time left: 00:00:03:49\n",
      "50.0%. Run time: 187.44s. Est. time left: 00:00:03:07\n",
      "60.0%. Run time: 222.74s. Est. time left: 00:00:02:28\n",
      "70.0%. Run time: 257.65s. Est. time left: 00:00:01:50\n",
      "80.0%. Run time: 292.50s. Est. time left: 00:00:01:13\n",
      "90.0%. Run time: 326.90s. Est. time left: 00:00:00:36\n",
      "100.0%. Run time: 360.06s. Est. time left: 00:00:00:00\n",
      "Total run time: 360.16s\n"
     ]
    }
   ],
   "source": [
    "timeax = np.linspace(0, 2000, 5000)/Gamma\n",
    "result = mcsolve(H, psi0, timeax, e_ops = momentum**2, c_ops = Cs, ntraj = 1000)"
   ]
  },
  {
   "cell_type": "code",
   "execution_count": 9,
   "metadata": {},
   "outputs": [
    {
     "data": {
      "image/png": "[encoded data removed]",
      "text/plain": [
       "<Figure size 720x432 with 1 Axes>"
      ]
     },
     "metadata": {
      "needs_background": "light"
     },
     "output_type": "display_data"
    }
   ],
   "source": [
    "fig, ax = plt.subplots(figsize=(10, 6))\n",
    "ax.plot(timeax*Gamma, result.expect[0])\n",
    "    \n",
    "ax.set_xlabel(r'Time ($\\Gamma^{-1}$)', size = 20)\n",
    "ax.set_ylabel(r'$\\langle (P/\\hbar k)^2\\rangle$', size = 20)\n",
    "ax.tick_params(axis='both', which='major', labelsize=15)\n",
    "plt.show()"
   ]
  },
  {
   "cell_type": "markdown",
   "metadata": {},
   "source": [
    "This is equivalent to the Monte Carlo data in Fig. 2 by Mølmer _et al._ Let's save it."
   ]
  },
  {
   "cell_type": "code",
   "execution_count": 10,
   "metadata": {},
   "outputs": [],
   "source": [
    "exportdata = np.transpose([timeax*Gamma, result.expect[0]])\n",
    "with open('qmc_1d_doppler.csv', 'w', newline = '') as file:\n",
    "    writer = csv.writer(file, delimiter = ',')\n",
    "    for row in exportdata:\n",
    "        writer.writerow(row)"
   ]
  },
  {
   "cell_type": "code",
   "execution_count": null,
   "metadata": {},
   "outputs": [],
   "source": []
  }
 ],
 "metadata": {
  "kernelspec": {
   "display_name": "Python 3",
   "language": "python",
   "name": "python3"
  },
  "language_info": {
   "codemirror_mode": {
    "name": "ipython",
    "version": 3
   },
   "file_extension": ".py",
   "mimetype": "text/x-python",
   "name": "python",
   "nbconvert_exporter": "python",
   "pygments_lexer": "ipython3",
   "version": "3.7.3"
  }
 },
 "nbformat": 4,
 "nbformat_minor": 2
}
