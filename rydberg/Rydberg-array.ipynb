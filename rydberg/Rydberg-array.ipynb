{
 "cells": [
  {
   "cell_type": "code",
   "execution_count": 1,
   "metadata": {},
   "outputs": [],
   "source": [
    "from qutip import *\n",
    "import numpy as np\n",
    "import matplotlib.pyplot as plt"
   ]
  },
  {
   "cell_type": "markdown",
   "metadata": {},
   "source": [
    "# Rydberg array"
   ]
  },
  {
   "cell_type": "markdown",
   "metadata": {},
   "source": [
    "What does the ground state of a driven Rydberg array look like? We'll use the Hamiltonian cited in the [Harvard _Nature_ paper](https://www.nature.com/articles/nature24622) on their arom array:\n",
    "\n",
    "$$\n",
    "    \\mathcal{H}/\\hbar = \\frac{\\Omega}{2} \\sum\\limits_i \\sigma_x^i - \\Delta \\sum\\limits_i n_i + \\sum\\limits_{i<j}  V_{ij} n_{i-1}n_i.\n",
    "$$\n",
    "Where $V_{ij} = -C_6/r_{ij}^{~6}$ with $r_{ij} = a|i - j|$ being the distance between sites, where $a$ is the site spacing. "
   ]
  },
  {
   "cell_type": "code",
   "execution_count": 255,
   "metadata": {},
   "outputs": [],
   "source": [
    "Natoms = 9\n",
    "Omega = 2*np.pi * 60*36/560 / 2\n",
    "Delta = 2*np.pi * 0\n",
    "C6 = -2*np.pi * 231529\n",
    "a = 5.74"
   ]
  },
  {
   "cell_type": "code",
   "execution_count": 256,
   "metadata": {},
   "outputs": [],
   "source": [
    "si = qeye(2)\n",
    "fullsigmax = []\n",
    "fullnumberop = []\n",
    "\n",
    "for i in range(Natoms):\n",
    "    dumoperator = []\n",
    "    for j in range(Natoms):\n",
    "        dumoperator.append(si)\n",
    "    \n",
    "    dumoperator[i] = sigmax()\n",
    "    fullsigmax.append(tensor(dumoperator))\n",
    "    \n",
    "    dumoperator[i] = (1-sigmaz())/2\n",
    "    fullnumberop.append(tensor(dumoperator)) "
   ]
  },
  {
   "cell_type": "code",
   "execution_count": 257,
   "metadata": {},
   "outputs": [],
   "source": [
    "H = Omega/2 * np.sum(fullsigmax) - Delta * np.sum(fullnumberop)\n",
    "for j in range(Natoms):\n",
    "    for i in range(j):\n",
    "        if abs(i - j) == 1:\n",
    "            H += -C6/(a * np.abs(i - j))**6 * fullnumberop[i]*fullnumberop[j]"
   ]
  },
  {
   "cell_type": "markdown",
   "metadata": {},
   "source": [
    "### Time evolution"
   ]
  },
  {
   "cell_type": "markdown",
   "metadata": {},
   "source": [
    "What if we start with the state $|rgr \\dots gr\\rangle$? What is the time evolution given some Rabi frequency $\\Omega$ and detuning $\\Delta$?"
   ]
  },
  {
   "cell_type": "code",
   "execution_count": 266,
   "metadata": {},
   "outputs": [],
   "source": [
    "# Prepare initial state |rgr ... gr>\n",
    "psi_list = []\n",
    "for n in range(Natoms):\n",
    "    if n % 2 == 0:\n",
    "        psi_list.append(basis(2, 1))\n",
    "    else:\n",
    "        psi_list.append(basis(2, 0))\n",
    "    \n",
    "psi0 = tensor(psi_list)\n",
    "\n",
    "# Set up and run solver\n",
    "timear = np.linspace(0, 2, 1000)\n",
    "sol = sesolve(H, psi0, timear, fullnumberop)"
   ]
  },
  {
   "cell_type": "code",
   "execution_count": 272,
   "metadata": {},
   "outputs": [
    {
     "data": {
      "image/png": "[encoded data removed]",
      "text/plain": [
       "<Figure size 720x144 with 2 Axes>"
      ]
     },
     "metadata": {
      "needs_background": "light"
     },
     "output_type": "display_data"
    }
   ],
   "source": [
    "pops = []\n",
    "for i in range(Natoms):\n",
    "    pops.append(sol.expect[i])\n",
    "\n",
    "X, Y = np.meshgrid(timear, np.array(range(Natoms+1))+1 )\n",
    "    \n",
    "fig, ax = plt.subplots( figsize = (10, 2) )\n",
    "c = ax.pcolor(X, Y, pops)\n",
    "plt.xlabel(r'Time ($\\mu s$)', fontsize = 12)\n",
    "plt.ylabel('Site number', fontsize = 12)\n",
    "\n",
    "# Place the ticks at the right positions\n",
    "ax.set_yticks(np.arange(1, 10, 2) + 0.5)\n",
    "a = ax.get_yticks().tolist()\n",
    "newlabels = (np.array(a) - 0.5).astype(int)\n",
    "ax.set_yticklabels(newlabels)\n",
    "\n",
    "cb = fig.colorbar(c, ax = ax)\n",
    "cb.set_ticks([0, 1])\n",
    "cb.set_ticklabels([r'$|g\\rangle$', r'$|r\\rangle$'])\n",
    "\n",
    "plt.show()"
   ]
  },
  {
   "cell_type": "code",
   "execution_count": null,
   "metadata": {},
   "outputs": [],
   "source": []
  }
 ],
 "metadata": {
  "kernelspec": {
   "display_name": "Python 3",
   "language": "python",
   "name": "python3"
  },
  "language_info": {
   "codemirror_mode": {
    "name": "ipython",
    "version": 3
   },
   "file_extension": ".py",
   "mimetype": "text/x-python",
   "name": "python",
   "nbconvert_exporter": "python",
   "pygments_lexer": "ipython3",
   "version": "3.7.3"
  }
 },
 "nbformat": 4,
 "nbformat_minor": 2
}
