{
 "cells": [
  {
   "cell_type": "code",
   "execution_count": 1,
   "metadata": {},
   "outputs": [],
   "source": [
    "from qutip import *\n",
    "import numpy as np\n",
    "import matplotlib.pyplot as plt\n",
    "import csv"
   ]
  },
  {
   "cell_type": "markdown",
   "metadata": {},
   "source": [
    "# Polarization-gradient cooling in a lattice\n",
    "When an atom or ion is confined (such as in an optical lattice) to the point where its typical spread is smaller than the wavelength of the excitation light, we say we're in the Lamb-Dicke limit. This is typically expressed as $\\eta \\equiv k z = k \\sqrt{\\frac{\\hbar}{2m\\omega}} \\ll 1$, where $k$ is the wave vector of the excitation light. The spectrum of the trapped particle will develop sidebands which correspond to transitions between different harmonic oscillator states. What's more, when an excited atom decays, it will not experience a recoil kick, simply \"because the momentum has nowhere to go,\" colloquially speaking. This effect is akin to the Mossbauer effect in nuclear physics."
   ]
  },
  {
   "cell_type": "markdown",
   "metadata": {},
   "source": [
    "#### The dipole approximation"
   ]
  },
  {
   "cell_type": "markdown",
   "metadata": {},
   "source": [
    "#### The Hamiltonian\n",
    "The simplest level scheme that exhibits Sisyphus cooling is a $J = 1/2$ ground state, and a $J = 3/2$ excited state. We'll follow the notation of [Cirac _et al._](https://journals.aps.org/pra/abstract/10.1103/PhysRevA.48.1434). We assume a 1D harmonic oscillator with trapping frequency $\\omega$. The cooling beams are linearly polarized with an angle $\\theta$ between each other, and at $z = 0$ their relative phase is $\\phi$. The Hamiltonian consits of two parts; that describing the Harmonic oscillathor \n",
    "$$\n",
    "    \\mathcal{H}_\\mathrm{ho}/\\hbar = \\omega \\left( n + \\frac{1}{2} \\right),\n",
    "$$\n",
    "and that describing the interaction with the lasers. In the rotating frame and in the interaction picture this is given by:\n",
    "\\begin{align}\n",
    "    \\mathcal{H}_\\mathrm{laser}/\\hbar =& \\frac{\\Omega}{\\sqrt{2}} \\cos\\left( kz + \\theta/2 + \\phi \\right) \\left[ |e_{3/2}\\rangle\\langle g_{1/2}| + \\frac{1}{\\sqrt{3}}|e_{1/2}\\rangle\\langle g_{-1/2}| \\right] - \\\\\n",
    "    &\\frac{\\Omega}{\\sqrt{2}} \\cos\\left( kz - \\theta/2 + \\phi \\right) \\left[ |e_{-3/2}\\rangle\\langle g_{-1/2}| + \\frac{1}{\\sqrt{3}}|e_{-1/2}\\rangle\\langle g_{1/2}| \\right] - \\\\\n",
    "    &\\sum\\limits_k \\Delta |e_k\\rangle \\langle e_k | + \\mathrm{H.c.},\n",
    "\\end{align}\n",
    "here the sum runs over all excited states $k \\in \\left\\{-3/2, -1/2, 1/2, 3/2 \\right\\}$.\n",
    "\n",
    "Assuming $kz$ is small (which is inherent in us being in the Lamb-Dicke regime) we can simplify the cosines using \n",
    "$$\n",
    "\\cos\\left( kz \\pm \\theta/2 + \\phi \\right) \\approx \\cos\\left( \\phi \\pm \\theta/2 \\right) - \\eta \\left( \\hat{a}^\\dagger + \\hat{a} \\right) \\sin\\left( \\phi \\pm \\theta/2 \\right),\n",
    "$$\n",
    "where $\\eta$ is the Lamb-Dicke parameter as defined above. This results in:\n",
    "\\begin{align}\n",
    "        \\mathcal{H}_\\mathrm{laser}/\\hbar =& \\frac{\\Omega}{\\sqrt{2}} \\left[\\cos\\left( \\phi + \\theta/2 \\right) - \\eta \\left( \\hat{a}^\\dagger + \\hat{a} \\right) \\sin\\left( \\phi + \\theta/2 \\right) \\right] \\left[ |e_{3/2}\\rangle\\langle g_{1/2}| + \\frac{1}{\\sqrt{3}}|e_{1/2}\\rangle\\langle g_{-1/2}| \\right] - \\\\\n",
    "    &\\frac{\\Omega}{\\sqrt{2}} \\left[\\cos\\left( \\phi - \\theta/2 \\right) - \\eta \\left( \\hat{a}^\\dagger + \\hat{a} \\right) \\sin\\left( \\phi - \\theta/2 \\right) \\right] \\left[ |e_{-3/2}\\rangle\\langle g_{-1/2}| + \\frac{1}{\\sqrt{3}}|e_{-1/2}\\rangle\\langle g_{1/2}| \\right] - \\\\\n",
    "    &\\sum\\limits_k \\Delta |e_k\\rangle \\langle e_k | + \\mathrm{H.c.}.\n",
    "\\end{align}\n",
    "This may look a little daunting, but what we basically have here is a bunch of carrier terms (that do not change the harmonic oscillator state) and some sideband terms (which do change the harmonic oscillator state). By changing the detuning we can decide which get excited, which is exactly the point of this cooling scheme."
   ]
  },
  {
   "cell_type": "markdown",
   "metadata": {},
   "source": [
    "##### Internal part\n",
    "Let's set up the Hamiltonian. We'll assume the internal state basis is given by $\\left\\{ g_{-1/2}, g_{1/2}, e_{-3,2}, e_{-1/2}, e_{1/2}, e_{3/2} \\right\\}$. We denote the transition matrices with `giej` where `i` and `j` stand for the coupled hyperfine levels."
   ]
  },
  {
   "cell_type": "code",
   "execution_count": 5,
   "metadata": {},
   "outputs": [],
   "source": [
    "def couple(a, b, N):\n",
    "    # Describes coupling between a and b in N-dimensional basis\n",
    "    dum = np.zeros((N, N))\n",
    "    dum[a-1, b-1] = 1\n",
    "    dum[b-1, a-1] = 1\n",
    "    return Qobj(dum)\n",
    "\n",
    "idCoupled = np.array([[2, 6], [1, 5], [1, 3], [2, 4]])\n",
    "couplingMatrices = [];\n",
    "for ids in idCoupled:\n",
    "    couplingMatrices.append( couple(ids[0], ids[1], 6 ) )\n",
    "    \n",
    "g12e32 = couplingMatrices[0]\n",
    "gm12e12 = couplingMatrices[1]\n",
    "gm12em32 = couplingMatrices[2]\n",
    "g12em12 = couplingMatrices[3]"
   ]
  },
  {
   "cell_type": "markdown",
   "metadata": {},
   "source": [
    "In the Hamiltonian there are a bunch of terms coupling the internal state, but they only occur in two distinct terms. Let's combine these as a shorthand: `termA` and `termB`, and use these to construct both the direct and sideband couplings:"
   ]
  },
  {
   "cell_type": "code",
   "execution_count": 9,
   "metadata": {},
   "outputs": [],
   "source": [
    "Gamma = 2*np.pi * 6.8E6\n",
    "Omega = Gamma\n",
    "delta = - 10*Gamma\n",
    "phi = np.pi / 2\n",
    "theta = np.pi / 2\n",
    "eta = 0.1\n",
    "nmax = 30"
   ]
  },
  {
   "cell_type": "code",
   "execution_count": 10,
   "metadata": {},
   "outputs": [],
   "source": [
    "termA = g12e32 + gm12e12/np.sqrt(3)\n",
    "termB = gm12em32 + g12em12/np.sqrt(3)\n",
    "\n",
    "direct = Omega / np.sqrt(2) * ( np.cos(phi + theta/2) * tensor(qeye(nmax), termA) - np.cos(phi - theta/2) * tensor(qeye(nmax), termB) )\n",
    "sidebands = eta * Omega / np.sqrt(2) * ( np.sin(phi + theta/2) * tensor( np.sqrt(2) * position(nmax), termA ) + np.sin(phi - theta/2) * tensor(np.sqrt(2) * position(nmax), termB) ) \n",
    "detuning = - delta * tensor(qeye(nmax), Qobj( np.diag([0, 0, 1, 1, 1, 1]) ) )\n",
    "\n",
    "Hlaser = direct + sidebands + detuning"
   ]
  },
  {
   "cell_type": "markdown",
   "metadata": {},
   "source": [
    "##### Harmonic oscillator part"
   ]
  },
  {
   "cell_type": "code",
   "execution_count": 11,
   "metadata": {},
   "outputs": [],
   "source": [
    "omega = 0.023*Gamma\n",
    "Hho = omega * ( tensor(num(nmax), qeye(6)) + 1/2 )\n",
    "\n",
    "Htot = Hho + Hlaser"
   ]
  },
  {
   "cell_type": "markdown",
   "metadata": {},
   "source": [
    "##### Decay processes\n",
    "In total, there are six decay processes. The thesis by [Renauld Chrétien](https://orbi.uliege.be/handle/2268/212746) provides a useful derivation of all couplings, but since we do not care about momentum transfer, the branching ratios are just given by the Clebsch-Gordan coefficients. "
   ]
  },
  {
   "cell_type": "code",
   "execution_count": 12,
   "metadata": {},
   "outputs": [],
   "source": [
    "def decay(a, b, N):\n",
    "    # Describes decay from state a to state b in N-dimensional basis\n",
    "    dum = np.zeros((N, N))\n",
    "    dum[b-1, a-1] = 1\n",
    "    return Qobj(dum)\n",
    "\n",
    "Cm32 = np.sqrt(Gamma) * tensor(qeye(nmax), decay(3, 1, 6))\n",
    "Cm12 = [np.sqrt(2/3 * Gamma) * tensor(qeye(nmax), decay(4, 1, 6)), np.sqrt(1/3 * Gamma) * tensor(qeye(nmax), decay(4, 2, 6))]\n",
    "C12 = [np.sqrt(2/3 * Gamma) * tensor(qeye(nmax), decay(5, 2, 6)), np.sqrt(1/3 * Gamma) * tensor(qeye(nmax), decay(5, 1, 6))]\n",
    "C32 = np.sqrt(Gamma) * tensor(qeye(nmax), decay(6, 2, 6))\n",
    "\n",
    "Ctot = [Cm32, Cm12[0], Cm12[1], C12[0], C12[1], C32]"
   ]
  },
  {
   "cell_type": "markdown",
   "metadata": {},
   "source": [
    "### Runtime!"
   ]
  },
  {
   "cell_type": "code",
   "execution_count": null,
   "metadata": {},
   "outputs": [],
   "source": [
    "observable = tensor(num(nmax), qeye(6))\n",
    "ninit = 5\n",
    "psi0 = tensor(basis(nmax, ninit), Qobj( np.array([1/np.sqrt(2), 1/np.sqrt(2), 0, 0, 0, 0]) ))\n",
    "timeax = np.linspace(0, 1000/Gamma, 10000)\n",
    "sol = mesolve(Htot, psi0, timeax, e_ops = observable, c_ops = Ctot)"
   ]
  },
  {
   "cell_type": "code",
   "execution_count": 14,
   "metadata": {},
   "outputs": [
    {
     "data": {
      "image/png": "[encoded data removed]",
      "text/plain": [
       "<Figure size 720x432 with 1 Axes>"
      ]
     },
     "metadata": {
      "needs_background": "light"
     },
     "output_type": "display_data"
    }
   ],
   "source": [
    "fig, ax = plt.subplots(figsize=(10, 6))\n",
    "ax.plot(timeax*1E6, sol.expect[0])\n",
    "    \n",
    "ax.set_xlabel(r'Time ($\\mu$s)', size = 20)\n",
    "ax.set_ylabel(r'$\\langle n \\rangle$', size = 20)\n",
    "ax.tick_params(axis='both', which='major', labelsize=15)\n",
    "plt.show()"
   ]
  },
  {
   "cell_type": "code",
   "execution_count": null,
   "metadata": {},
   "outputs": [],
   "source": []
  }
 ],
 "metadata": {
  "kernelspec": {
   "display_name": "Python 3",
   "language": "python",
   "name": "python3"
  },
  "language_info": {
   "codemirror_mode": {
    "name": "ipython",
    "version": 3
   },
   "file_extension": ".py",
   "mimetype": "text/x-python",
   "name": "python",
   "nbconvert_exporter": "python",
   "pygments_lexer": "ipython3",
   "version": "3.7.3"
  }
 },
 "nbformat": 4,
 "nbformat_minor": 2
}
