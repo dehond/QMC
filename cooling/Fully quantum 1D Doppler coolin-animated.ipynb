{
 "cells": [
  {
   "cell_type": "code",
   "execution_count": 1,
   "metadata": {},
   "outputs": [],
   "source": [
    "from qutip import *\n",
    "import numpy as np\n",
    "import matplotlib.pyplot as plt\n",
    "import csv\n",
    "from matplotlib import animation, rc\n",
    "from IPython.display import HTML"
   ]
  },
  {
   "cell_type": "code",
   "execution_count": 2,
   "metadata": {},
   "outputs": [
    {
     "data": {
      "text/plain": [
       "['ffmpeg', 'ffmpeg_file', 'html']"
      ]
     },
     "execution_count": 2,
     "metadata": {},
     "output_type": "execute_result"
    }
   ],
   "source": [
    "animation.writers.list()"
   ]
  },
  {
   "cell_type": "markdown",
   "metadata": {},
   "source": [
    "## One-dimensional Doppler cooling"
   ]
  },
  {
   "cell_type": "markdown",
   "metadata": {},
   "source": [
    "Let's try to use a quantum Monte Carlo calculation to simulate Doppler cooling in one dimension. We'll lean heavily on Section 5F in this paper by Mølmer, Castin, and Dalibard (<https://www.osapublishing.org/josab/abstract.cfm?URI=josab-10-3-524>).\n",
    "\n",
    "They assume a two internal levels, $|g, m_g = J_g\\rangle$ and $|e, m_e = J_e + 1\\rangle$ that are coupled by a standing wave of $\\sigma^+$ light, and use the following Hamiltonian:\n",
    "$$H = \\frac{\\hat{p}^2}{2m} + \\hbar \\Omega\\cos(k \\hat{x}) \\left( |g\\rangle\\langle e| + |e\\rangle\\langle g| \\right) - \\hbar\\delta|e\\rangle\\langle e|.$$\n",
    "\n",
    "For some reason they drop the $\\cos(k \\hat{x})$, perhaps because it's assumed to average out to some value? Either way, following the example we set up a momentum basis and a two-level system."
   ]
  },
  {
   "cell_type": "markdown",
   "metadata": {},
   "source": [
    "First we define the simulation aprameters, and construct an initial state in the basis $\\left\\{ |g\\rangle, |e\\rangle \\right\\}\\otimes \\left\\{ |p = -n_\\mathrm{max}\\hbar k\\rangle \\cdots |p = n_\\mathrm{max}\\hbar k \\right\\}$ such that $|\\psi(t = 0)\\rangle = |g, p = 0 \\rangle$"
   ]
  },
  {
   "cell_type": "code",
   "execution_count": 3,
   "metadata": {},
   "outputs": [],
   "source": [
    "nmax = 50\n",
    "\n",
    "mRb = 3.8175409E-26 #actually Na-23 mass, somewhat confusing.\n",
    "hbar = 1.05457E-34\n",
    "hbarOvermRb = hbar/mRb     #This is needed for some precision problem\n",
    "\n",
    "k = 2*np.pi/589E-9\n",
    "Gamma = 200*hbar*k**2/mRb #2*np.pi * 6.065E6\n",
    "Omega = Gamma/2\n",
    "delta = -Gamma/2\n",
    "\n",
    "psi0 = tensor(basis(2,0), basis(2*nmax + 1, nmax))"
   ]
  },
  {
   "cell_type": "markdown",
   "metadata": {},
   "source": [
    "Next we set up the Hamiltonian matrices. We have to take care that all the momentum couplings are accounted for. We want the processes:\n",
    "$$\n",
    "|g, 2n\\hbar k \\rangle \\rightarrow |e, (2n + 1)\\hbar k \\rangle \\\\\n",
    "|g, 2n\\hbar k \\rangle \\rightarrow |e, (2n - 1)\\hbar k \\rangle \\\\\n",
    "|e, (2n + 1)\\hbar k \\rangle \\rightarrow |g, 2(n + 1)\\hbar k \\rangle \\\\\n",
    "|e, (2n + 1)\\hbar k \\rangle \\rightarrow |g, 2n\\hbar k \\rangle.\n",
    "$$\n",
    "In the QuTiP framework we can use a `tunneling(N, M)` matrix with `M = 1` for the momentum part (this basically describes nearest-neighbor tunneling in some basis). The internal state coupling is simply described by a $\\sigma_x$ matrix."
   ]
  },
  {
   "cell_type": "code",
   "execution_count": 4,
   "metadata": {},
   "outputs": [],
   "source": [
    "coupling = tensor(sigmax(), tunneling(2*nmax + 1, 1))"
   ]
  },
  {
   "cell_type": "markdown",
   "metadata": {},
   "source": [
    "We also need to set up a momentum operator. This can simply be done using the `charge(N)` matrix from QuTiP. This leaves the internal state of the atom unaffected, so for that we simply use `qeye(2)`."
   ]
  },
  {
   "cell_type": "code",
   "execution_count": 5,
   "metadata": {},
   "outputs": [],
   "source": [
    "momentum = tensor(qeye(2), charge(nmax))"
   ]
  },
  {
   "cell_type": "markdown",
   "metadata": {},
   "source": [
    "For the last term in $H$ we need an operator in $|e\\rangle\\langle e|$, again we use `qeye()` to take the unaffected part of the basis along."
   ]
  },
  {
   "cell_type": "code",
   "execution_count": 6,
   "metadata": {},
   "outputs": [],
   "source": [
    "Pe = tensor(basis(2, 1).proj(), qeye(2*nmax + 1))"
   ]
  },
  {
   "cell_type": "markdown",
   "metadata": {},
   "source": [
    "The Hamiltonian is good to go, we just need the dephasing now. This is a jump operator $\\sqrt{\\Gamma}|g\\rangle\\langle e|$, but following Mølmer _et al._ we need to assign different scattering directions different probabilities. Specifically, they set the probability for $C_{\\pm k}$ to 1/5, and that for $C_{0}$ to 3/5."
   ]
  },
  {
   "cell_type": "code",
   "execution_count": 7,
   "metadata": {},
   "outputs": [],
   "source": [
    "decay = Qobj([[0, 1], [0, 0]])\n",
    "C0 = np.sqrt(3/5 * Gamma) * tensor(decay, qeye(2*nmax + 1))\n",
    "Cmk = np.sqrt(1/5 * Gamma) * tensor(decay, qdiags(np.ones(2*nmax), 1))\n",
    "Cpk = np.sqrt(1/5 * Gamma) * tensor(decay, qdiags(np.ones(2*nmax), -1))\n",
    "\n",
    "Cs = [C0, Cmk, Cpk]"
   ]
  },
  {
   "cell_type": "code",
   "execution_count": 8,
   "metadata": {},
   "outputs": [],
   "source": [
    "H = hbarOvermRb*(k*momentum)**2/2 + Omega/2 * coupling - delta * Pe"
   ]
  },
  {
   "cell_type": "markdown",
   "metadata": {},
   "source": [
    "We define the squared momentum as the observable."
   ]
  },
  {
   "cell_type": "code",
   "execution_count": 9,
   "metadata": {},
   "outputs": [],
   "source": [
    "def unaverage(mcresult):\n",
    "    trajectories = []\n",
    "    trajectories.append(mcresult.expect[0][0])\n",
    "    for i in range(1, len(mcresult.expect)):\n",
    "        trajectory = (i + 1) * mcresult.expect[i][0] - np.sum(trajectories, axis = 0)\n",
    "        trajectories.append( trajectory )\n",
    "    return trajectories"
   ]
  },
  {
   "cell_type": "code",
   "execution_count": 10,
   "metadata": {},
   "outputs": [
    {
     "name": "stdout",
     "output_type": "stream",
     "text": [
      "10.0%. Run time:   7.12s. Est. time left: 00:00:01:04\n",
      "20.0%. Run time:  10.47s. Est. time left: 00:00:00:41\n",
      "30.0%. Run time:  13.80s. Est. time left: 00:00:00:32\n",
      "40.0%. Run time:  16.93s. Est. time left: 00:00:00:25\n",
      "50.1%. Run time:  20.42s. Est. time left: 00:00:00:20\n",
      "60.1%. Run time:  23.69s. Est. time left: 00:00:00:15\n",
      "70.1%. Run time:  26.82s. Est. time left: 00:00:00:11\n",
      "80.1%. Run time:  30.00s. Est. time left: 00:00:00:07\n",
      "90.1%. Run time:  33.28s. Est. time left: 00:00:00:03\n",
      "100.0%. Run time:  36.54s. Est. time left: 00:00:00:00\n",
      "Total run time:  36.58s\n"
     ]
    }
   ],
   "source": [
    "timeax = np.linspace(0, 200, 500)/Gamma\n",
    "mcresult = mcsolve(H, psi0, timeax, e_ops = [momentum, momentum**2], c_ops = Cs, ntraj = [x for x in range(1,1000)])"
   ]
  },
  {
   "cell_type": "code",
   "execution_count": 15,
   "metadata": {},
   "outputs": [],
   "source": [
    "trajectories = unaverage(mcresult)"
   ]
  },
  {
   "cell_type": "code",
   "execution_count": 12,
   "metadata": {},
   "outputs": [
    {
     "data": {
      "text/plain": [
       "[<matplotlib.lines.Line2D at 0x15ac73e4f98>]"
      ]
     },
     "execution_count": 12,
     "metadata": {},
     "output_type": "execute_result"
    },
    {
     "data": {
      "image/png": "[encoded data removed]",
      "text/plain": [
       "<Figure size 720x432 with 1 Axes>"
      ]
     },
     "metadata": {
      "needs_background": "light"
     },
     "output_type": "display_data"
    }
   ],
   "source": [
    "fig, ax = plt.subplots(figsize = (10, 6))\n",
    "ax.plot(timeax*Gamma, mcresult.expect[-1][1])"
   ]
  },
  {
   "cell_type": "code",
   "execution_count": null,
   "metadata": {},
   "outputs": [],
   "source": [
    "with open('animation_data.csv', 'w', newline = '') as file:\n",
    "    writer = csv.writer(file, delimiter=',')\n",
    "    for row in trajectories:\n",
    "        writer.writerow(row)"
   ]
  },
  {
   "cell_type": "code",
   "execution_count": 127,
   "metadata": {},
   "outputs": [],
   "source": [
    "fig, ax = plt.subplots()\n",
    "def update_hist(num):\n",
    "    ax.clear()\n",
    "    ax.set_ylim(0, 1000)\n",
    "    ax.set_xlim(-5, 5)\n",
    "    ax.hist([x[num] for x in trajectories], bins = np.linspace(-5, 5, 50))\n",
    "    \n",
    "plt.close(); # Prevent empty axes from showing up"
   ]
  },
  {
   "cell_type": "code",
   "execution_count": 128,
   "metadata": {},
   "outputs": [
    {
     "data": {
      "text/html": [
       "<video width=\"432\" height=\"288\" controls autoplay loop>\n",
       "  <source type=\"video/mp4\" src=\"data:video/mp4;base64,AAAAHGZ0eXBNNFYgAAACAGlzb21pc28yYXZjMQAAAAhmcmVlAAA9q21kYXQAAAKuBgX//6rcRem9\n",
       "5tlIt5Ys2CDZI+7veDI2NCAtIGNvcmUgMTU3IHIyOTcwIDU0OTNiZTggLSBILjI2NC9NUEVHLTQg\n",
       "QVZDIGNvZGVjIC0gQ29weWxlZnQgMjAwMy0yMDE5IC0gaHR0cDovL3d3dy52aWRlb2xhbi5vcmcv\n",
       "eDI2NC5odG1sIC0gb3B0aW9uczogY2FiYWM9MSByZWY9MyBkZWJsb2NrPTE6MDowIGFuYWx5c2U9\n",
       "MHgzOjB4MTEzIG1lPWhleCBzdWJtZT03IHBzeT0xIHBzeV9yZD0xLjAwOjAuMDAgbWl4ZWRfcmVm\n",
       "PTEgbWVfcmFuZ2U9MTYgY2hyb21hX21lPTEgdHJlbGxpcz0xIDh4OGRjdD0xIGNxbT0wIGRlYWR6\n",
       "b25lPTIxLDExIGZhc3RfcHNraXA9MSBjaHJvbWFfcXBfb2Zmc2V0PS0yIHRocmVhZHM9NiBsb29r\n",
       "YWhlYWRfdGhyZWFkcz0xIHNsaWNlZF90aHJlYWRzPTAgbnI9MCBkZWNpbWF0ZT0xIGludGVybGFj\n",
       "ZWQ9MCBibHVyYXlfY29tcGF0PTAgY29uc3RyYWluZWRfaW50cmE9MCBiZnJhbWVzPTMgYl9weXJh\n",
       "bWlkPTIgYl9hZGFwdD0xIGJfYmlhcz0wIGRpcmVjdD0xIHdlaWdodGI9MSBvcGVuX2dvcD0wIHdl\n",
       "aWdodHA9MiBrZXlpbnQ9MjUwIGtleWludF9taW49MTAgc2NlbmVjdXQ9NDAgaW50cmFfcmVmcmVz\n",
       "aD0wIHJjX2xvb2thaGVhZD00MCByYz1jcmYgbWJ0cmVlPTEgY3JmPTIzLjAgcWNvbXA9MC42MCBx\n",
       "cG1pbj0wIHFwbWF4PTY5IHFwc3RlcD00IGlwX3JhdGlvPTEuNDAgYXE9MToxLjAwAIAAAAfeZYiE\n",
       "ABH//veIHzLLafk613IR560urR9Q7kZxXqS9/iAAAAMAFr/v8PInagIQDmP805EnEGT5Dm007Gfg\n",
       "36oc2kgQu6OSLBYBCh70I6JB3kk53ljFS7wawNXmmVWBaNjvjLscMbCpvRli2BBA/7ORQlXzeQhj\n",
       "IysluGJUmjE6RteSNi3PUnHUfoegAAAsqhpm+l14t/AYKzKYUTuPX9TLxfVhV3EqcokMKA/jI9i2\n",
       "amlCHYPCSVCMeIuWhkJZBDYMVY298XwZOD1zv8K3qyqI94tyy/5knkF/UurcMhOSn8T0xUfLqG0y\n",
       "NCGSF23GFRLvQOzgFmiszQVn51pxkuPt88w5GGf2h3ckSwsPQYw9NG5ssUUCrIRXXZbsKR3Rl4mU\n",
       "zDCfofZ16Wk0DKSqL7Y5r8heGxNLQTDDYEjINotNI9w/aPoQrhzMjfNCTdC/+zhgV2jFL4779lU7\n",
       "34NiZqD2syvF+PF+Ia/vumZrEZWPbZ5Xv7BXjJ08KNqC4B6uqx9NJx3K8/LPjZ2OyVyQZZ52PPAP\n",
       "ap8nkU5BXm4qxc21D3+9hBxCJhZfRBbaQsvXOAAeg0ozXdueyz03LZz1iwtqT60INE18VtBuQHa6\n",
       "3WQJWwfaFZCGmzSd3bypcYoDQjOHtVoIzNDe31IiU4n5K3bR3+gcKR/RjHYb6ngPvE9lYtkXgpZ8\n",
       "TphO1TT8M+V0k5iIHu77VOQP5NaKAvELJJ7v2zCQDKPTcqPaKkp6KGc5krtKvQr02lIbICudoTo+\n",
       "3a/Ye430pR7NLBu8R7zXKLhP6//VNf9NHiIjhIL9ZpdL92ph6vX2oDYXmJ09sswIkCIakAjlJCNh\n",
       "bpuFfRwhLBsegBVe5wtL8Ivj8VuzYq/cyjNV7GlE05rdYCKdQs9keZbXTcF2IK3JPN5px0z0x9di\n",
       "ki8yRh4aT9oSz6TFwtp3QSTeUDb6QMHQB76EbOteYQ0Z9HQm0pDr+XRDPN44S8iytZjsCv0+kdY4\n",
       "djcJF+Q4hPaspANgmnZTBvSMHczgkQnzPxH+QJ5JYMqDG/+3BWn7sG+4thoPFPllctBEhtMj8HGZ\n",
       "In07Y9OWExG9S9XvWGAsHHHWa0AwwKjAX4WWBUBms8hB7D8guAdmPe/LLpRehQn0pkJ+xawUXhFP\n",
       "07N3pkks1guQ0+Zx9uQ67+VVzfbT09AK+MxgSsv1BHpha7q+Hy2P4fSwV9gBYAdMfevqTQQ6no4K\n",
       "eDq1xl+I6M2vUojGMKHvVmfzKpkoK2mv9zn2EXEtzx9rrlLvpY2Bf1DvRuiFn4Lb02waOgTdjZ0S\n",
       "GWF1h67foB2zqMtISLg67nURyh6uOCJsWFHdgVJPISf0G2cVmkhBuO6uqNjCW3pzxlbfHwcLXQWb\n",
       "WIbHOyyLbLnBaDuM0ikmpDZdK8i3nkARAXuybDzwy0mlIvAudAfB5gW2vFEwoyj58K5s2Zbfbqse\n",
       "9ZfLdWEs5Eo33CDmzBu9S52Og0/i+cdGKIN/DdeNrScAt8GA/w8AZpHm85o63f18nuZ+0UUd5Nqc\n",
       "8HZUeaG3ePUJ33hwL9kq8wOhhgMDHDMvJv68OnPhkneee0lJbO3OXktCifxWUVAp7LUA/QwEmi/R\n",
       "5E9akXyFqq3obRdnv11fthi8zGB9fbE0eAcQHtPlaNtbtup53P04h2nyGFufl6ULCpfY2tZKuxBV\n",
       "XPaoYhrjw1KCXe6gKRGc0pSRMx2Az+Arv0WNXy+G9zT4ZVwTo6NO+rHMrkQJ3Yop+elVMHJnYAkE\n",
       "NVD/w9bUtGIH8hxuf3QGdgG5GoWG2x34TTEtbElA9VTipcySCu2ERnMKGnBWMozMCAVKKWKJwWYb\n",
       "A45Z+F3Pdz4SHFgOCPGNQisyI3fLYIklaW6IhqekMu2O9czlYuWIK9hk3/tiAUWum3ZaCC8XIJYR\n",
       "gHvuo5z9z/PzkY9lf5glUrrf/3XNglnMaWDR5Cr1dg5Aal3RXngwQW8Erk9ZqXgEbzIqDbJxXfZ/\n",
       "ly6l4U6iCdQjuIkJVe/mEtIw87+1vUeZpzVoLaS/6XM2eVNwQcG2NRRzUUDIJbEkIajZV75Et0BP\n",
       "dZpuxjEffrpmzN51VVeEG2PZN7l9kAhXCEOkJ6TxYBu5UAAvdWWVq5VaxW8kMvIBCmUhjbvaKzkU\n",
       "Oo+xBbDAELxh6ROr3TsXDYuZpcbWcFFNCoUF+mZAwHNLpFeNid1Ulx29JVuOuo2XB/P/PisooWCD\n",
       "tCFpF/8O8GiJzvkWBxHvFc7dAcwSrFDdX72eYbvQqsZC99MikwbQ+k5jD0dCpD9bwJt1n/v+zuOC\n",
       "spWccRaFgFPlyJ99ZbaMQocW+bxWUMOdyOvco0ZADubTrI1G8ItBd2TE51aIBeuvUzqDdcLkxUg9\n",
       "A8JW/yAdyetEz4rjszy7M8lGE/+ZtXsGHT9M4C/I5TfuiQyw7gH9d4lI7bZA7YEgnFTEl3/f+Zqe\n",
       "wuw03Lpz1rH1K9qr3j/H5b4d/tQOT52K/o+2BPuMefiTalvepaR4+7qGUX8tnsswZmR1mKblN0jR\n",
       "HfT7mnW/RZmeq83b7RVRCw7/S3r8aDYAE6VAGOZmysSlW6wKFJSGTXOesK0ktiLSK7tRZERDjUGs\n",
       "MsKIaGnJSRXhbSyV3t6oF7SU1O2IZyZ15XsYrNpszJRIrwU8Nm+1YKd1Q2rzcICjf6Z1v4BsCyKN\n",
       "yUs03Wwq+28AAwSxLBhmoQAAAW9BmiRsQR/+tSqAk/HzZyXqGAKC61Yo8Tf1y75a3AuuD7tY92uH\n",
       "Pajzkea9u7UeSLBB2f2ItAA7LjPx8L2zCgw7peu1h2B9aSliLAeBzv9Tli2uMw3xx9hnR1RZy1pE\n",
       "n6E4JSO+nQbcfx0e19YfA7sY/9IZHVr04Nsse8DoVghudYZe1Xv5+JUMr7jxBNzO9SDt5nagXhoH\n",
       "3Gif0dpI6LpU5OAPK+E4tDngD+X1XhpVwHqaJYarIoo93ylf/fX3eHl9YFMe8FFe77hpVX2PIQE9\n",
       "xEEWW7el2IJQwESsYNs6Mc+447i0Qg5/6G77Jol/AZQPvBKzgtU9OUsIQuGhUu2EpHYsn8uVO/Td\n",
       "mJDuv/5uhhe+R7uIk95l1hIpaLP+6AjTitGMmUQVRl8ihtlWqUIpemkhdZ5I3Ing/7cTUjoUPd3v\n",
       "Rxjta35vrEZsnrKRUdqVa2RS4Dg1Ft/uPHOG20aZ4Yo7tS8ANRFzRySynNuAAAAAQ0GeQniHfwCA\n",
       "UlIN5bFDLQAahhXUmXSH/zM/gM/r/EkoQ0JLz8t8yzQKUp4fkklX4XOPTBsZHfQfnff9p7qKRARQ\n",
       "OOEAAAAvAZ5hdEN/AQ2mnHR5YHt+ZI4za97/68DcaIQvhmZQF27gqvD5BGDZN0TVOQpkSygAAABR\n",
       "AZ5jakN/AQ2OO8atuKqxwAQ7DMp3WZU737SEz7g8ZAa1F4Ki8cxoLjcvov6KeRh/v4VqU5Kt+QCq\n",
       "yAfMLMFZYAy9mpCOj9aoDniZ+k/8+GlBAAABCkGaaEmoQWiZTAgh//6qVQAt3x0Ei4nwfwjevwA4\n",
       "tRo9N2DJgSITh723b7M6vY/0aIpULFlKY4xx7Yvei79YLFcw7QvVRQjmrQeetVPPfJwPWTLSQCQ/\n",
       "gMClHk582nDNaKQVDULM8WTYlDQ845n8Yvgvggp3SmkG//VnjfyyEsXg7CzxwaEgBgI2h9wP2Gmy\n",
       "BfTYZbJxHzY4xccLvfpqtGZsIR1kZ65vTv3wp4gx2Kyvlco/wCf3YrwvUsRSAC7eoqqlO03gx5jE\n",
       "PKczY3ztc/ZMoMqZFoDA92jcMuplDgIbVAn0w45qobhaDk+81OoH41PV2caQ9svt2n939T1VKGq9\n",
       "0LAVn9ncYj8hAAAAZEGehkURLDv/AFcMTqsO7ws72Y3PWBs8r05TprW00ZmADaLxDuGuSpqnY/5e\n",
       "W8k4PC2Y/8F2yYyRVum6A7vP/4IIrZssEgL99v5O2a1ODgNNwBK55apBMJmQXQUJPAQenjGBnMEA\n",
       "AABFAZ6ldEN/AHgqj/gns4AJ1numndq3t0zT+zD6JlP+YN/79ppyLtvEn0eXP5Sh9H3k2aQEf3cO\n",
       "TgEeAuM4d8jSeRKL7EGBAAAAIAGep2pDfwA8rjWzkXl1In0FdbqjkEbUoSw0Z0LS0cqAAAAApkGa\n",
       "qkmoQWyZTBRMEP/+qlUAFm+MhRBDBZjHRMxerjkI4AGjNGiJLhYgICWSrpXK6L28UmG/kGXL61zG\n",
       "gb60fCOMJ4xu1t//39l3aUdOx4wuPMB134CAAXxY//v9GTEmTU2uEy7MAFJ8wNW4BEyznnVeXyxJ\n",
       "C7TVvsWe1fMIBe+mPCvrGpk1FRBZI2LpRQ7rmbT3T8ZopoEeUbVJdrymO0kuh6LPjaAAAAAmAZ7J\n",
       "akN/ADy9rDQ1DaZAOwd9BsphsCnqY2sZnyL3hTxcLWmk8uEAAAAvQZrLSeEKUmUwIIf//qpVAAso\n",
       "CqUSN2cJiyH9CKdP9Hz96mdUzTfu51LC9poyCEgAAACVQZrtSeEOiZTBTRMEf/61KoCC9BiQgji/\n",
       "gI7SO4rgRBoKteczDhh18qAArrG/1ogPAycWpn/CKNJG54+4/ohtdH//1KgctOt4EuF4PHFZEq17\n",
       "iDIgrnSy3IfWpLPaHjmCBqU6wplnnFBF1tu52sC+qH16IW7gxoupHMZArhlof4PgDVIyZWztmRD2\n",
       "WpPk+t65uT2mOmAAAAAfAZ8MakN/AB5e1hoa+LUezFJnfzqfE7pGq8xkmecPmQAAALlBmxBJ4Q8m\n",
       "UwIIf/6qVQAFlAWBpNrCYw/WrpPIRgGh7XHr7Wv7qnbjCEBr/tZw5zva6PvTIxhnhAKbavS1k2zo\n",
       "5bwvFxu5IY1FHciuv0hn/8sw98ERS9BKOvs7WniYztP6DlFuoRqOZbNw/8DkARFfq/IxHW9+fMAC\n",
       "2WHghY5oVTCcJLSb/XJD1BDH24Zslqn4DjbgE2l4X+ZOxC/BY17gCPxRQAPqITPybAUCIA/vSyfB\n",
       "Pp77s2W7hQAAACFBny5FETw3/wAPMa9SN+nqViZCV5k38Zp7EnKLB+6NMiEAAAAaAZ9PakN/AA8w\n",
       "U0x9n1KxCwU20ZKoXsSFVeAAAACJQZtSSahBaJlMFPBH//61KoACzf4gKHUNbt/9ea/3ZggZvggJ\n",
       "pYV90vFEGn9dwwO66SkmlQPi34QhbxFjWYMoNO8jUpNvZzJq7Jiv1PEjp1vUi3fzYsUj7WFSeioj\n",
       "MnIVq5i0j4uyCjm2p1rK7/mrGYBu3/wU6nNS+mdSNIH1UsqYLRNStA907eAAAAAcAZ9xakN/AA8w\n",
       "U0x9n1M+SNysTN+8gFz5ZmmN+QAAAGlBm3ZJ4QpSZTAgh//+qlUABZvjIUQgoPFaomPmwsWQXm7o\n",
       "cOt7WsyFQZ4/lKuuXA9Exnab8Y1bx6lmR5gGxvPgm4wqgovH//yoHLTv091OoGTVx1xTfHoVhTkO\n",
       "X3Ee5Zvc+MAAu49ZLrgAAAA8QZ+URTRMO/8ABXF0DlM42FZiPCkGKtQ9o7AHbRoALZBZzFJpZlZF\n",
       "gyPP9x8BCtelp4ABA4tvEvWenJ9EAAAAIQGfs3RDfwAPM7YMFXEs1K5j+pTpAJND3xMp2VZ9DiZY\n",
       "EQAAABsBn7VqQ38AB5gjK8z7UqYmz/Ub/Diq98b1OvgAAAC2QZu5SahBaJlMCCH//qpVAALKAnMi\n",
       "VGNZEceFRRzailD188oef8tIhElAHDBClIWc3/6/gPGk+/Jq7uKk7XzcGjVt5GzXeqKaQf9QrmdU\n",
       "+nWmydEGYsAaj5yzGDDZCoYkmanDhYeC3/tVvD3qevQJGhNNkStcaeJgDrK0H9T/Kx1pqZ3gfw89\n",
       "yksuuPmOEg7vm5dJ2f+yQrpjIxnh+OR4evMHCRMJL8bNOQSSFPEUiPPwec33KtkAAAAfQZ/XRREs\n",
       "N/8AB5gl8xvzdSNV11Fy54DSRmTQN8a/nQAAABsBn/hqQ38AB5gppj7PqmJIDDmuFmFrlcs035wA\n",
       "AABrQZv6SahBbJlMCCH//qpVAALKLPLZ0LyI7NmDsJleU0dvyVm4A1jkDVC2gCl8JuBG7aBh6yVK\n",
       "dmzTV6LG82pPVB8yp/8osLM6sr2o+OJZkjXO5scDVtx3LLIM29BZyX6BZG4sUF1W+kgM+sEAAABf\n",
       "QZocSeEKUmUwUVLBD/6qVQACzf1cB3SlLD4Uy3J8pz+zrypff3ewaOOxd0FKk8CCq7AYkehLKGC2\n",
       "fjoLDNyVKjcCWYe+RNf3Hkm1T/wWINQDv7sT9q9tF25NYOoTfkAAAAAcAZ47akN/AAPL2sNhD3Mq\n",
       "46n/KZGaPN+B6YRnRQAAAJFBmj1J4Q6JlMCCP/61KoAAspr8Wly5tr9kqwjgSSn/ZePp4nq8xTB2\n",
       "8IXjZw3fAL0+if/g87gDBvgWrX1qzdgSQ/ejLILZTfdNnDC2Adtfz2gqjzxq0ojjsdC3Mfpw1wtI\n",
       "YV9QqW3cYVM537RezLGZwr4oZHlgyxQpY/9rP8WbLC7BCVj+s+az0cJL14xleT+BAAAAvEGaQUnh\n",
       "DyZTAgh//qpVAAFlAVShNZKYcwerDnr1EDR+ARrF+nejdBqM4F3KFOq438jCaU3owkvPdqzbtM1h\n",
       "BYeeppnZdTujVQgd/6PXQwyJwTDLolQCrCajww1//wygwFo6eXN/77MzhNwgv6ewxwemqgJBvJUh\n",
       "MYx8tGPDImE/uNJd7fjA1DVZrLUh+uXcN75vUrODbwhHiZLy2Ff3hW/IoEAWKc0QLy8lAZRV+DYP\n",
       "RpSLH5WFZE1ioWwCAAAAQkGef0URPDv/AAK26bswGrteC7VJvulZZIBDUvcaBgACcktK4xyHH0Jc\n",
       "KZtjL/7/oiRiHglIuqO76OX9xx3tH7cDAgAAAB0Bnp50Q38AA8vD6XZvqvFTk01+PPUqaQbGbF/8\n",
       "oQAAAB0BnoBqQ38AA8xtkrLrJTr6/V+CxAD7PM4Nlqw70AAAALtBmoNJqEFomUwU8EP//qpVAAFl\n",
       "FoJbOheRO1lK347CJGCTx4b+yV/dzAETrkqU7Nmmr0WN5tSczoBCNbjsFBCUyZ9RIbz5GqJd0ht6\n",
       "J1tHXTWs0KmAdNzPr6BeJruPF3/+GlTgA92IWZeg8QiABXNBQFv5YuAHaXfJQ/GZceOL4DKiXi8n\n",
       "RiifETsFcXC59Q9S7yqth1ty8Bl0e+m6SWI2DbX4RFh4BuSHL+Q+r7b0irXDzWs5lMj+fAHpAAAA\n",
       "NQGeompDfwADzBTTH2fV4kSCVWNfOovae9eIaqvKgBBXDG/9TMhMyb+5m/9aYkLU/LKWqNeAAAAA\n",
       "gkGapEnhClJlMCCP//61KoAAsptmOSA69cyBq5L62n/EPq35OieALgBxdkT/VLDlOn3+iH6dDTIl\n",
       "kHqDE8MriQGyCzn/tR4qr+hRTf+9LWr0uaNxqY+WAeq8GB5GL+gHZ2/z4KKeL6x53NEeJtoOZtwS\n",
       "BXA+Ogm/vQHltBXayL1Zjo0AAAD2QZrHSeEOiZTAgj/+tSqAALN0bmIb/lAvVAoP3HfvoavfoLtq\n",
       "+v16PLxmdfN6EuOn+WSpiOjmJ3gF8rN64TQKhPYXbZwV4UW49gBempk+y7YyaAqgVGleuoCK0v7p\n",
       "7rK4tIiO5f/ucBTot6mWp3i+4teRCxWu70zTtvUGDZ8/3ZtKMmZUBu6lHaSI18EW5QPKW1ixU609\n",
       "+xZrp8mdx+ihRiACpUZvhCZiwufxEFlJJhaBbMcK2ZTY8wro3AwkK1wOlewUiO1TvgYq9TpKG6eM\n",
       "z5fxke10jUJN3YYiUIUM2tWQ/u30itCa9c8vFz15giryrtPlm1zBAAAAKEGe5UURPDf/AAPL2sND\n",
       "Xxaj2hQ+4FdQTKTYJuGcDIb9MaMCTfh6F9EAAAAhAZ8GakN/AAHmCmmPs+t+a7eW3LkwjJN/ZShJ\n",
       "BLk8BWdBAAAA+EGbC0moQWiZTAgh//6qVQAAsoC2GJvnTDmD1Yc9eoqN774tI22HmQT+uup//boK\n",
       "YAb4ax4J7EsdFPoKb8AIyj7v/n8FdCUqDDejlksoV+SWHMXZAaeZLbpXxCSgKxieed0EEyMdnaU4\n",
       "HnBiF4mQSPq2csRvIQZpimVrBGjzshn5H2tuWbCK5MkemvqAfRKItgF8hMGFfY0omQ0w4Uveo7CQ\n",
       "AKitkxqSywtqoW7CsVo+bQKC1ZVUeIebYpcpyeNONTdqqowzJz5IQEsId3yIe5pF/brJ0GSeAFda\n",
       "QsiBL+EpsZ+JpRf69PuLu8h4EhRzmzLAYvp6a4rgAAAAJ0GfKUURLDv/AAFcQ9+2rrjPxouHXwg3\n",
       "Z1dMZyNsFKU9j29f9YJTFgAAAB4Bn0h0Q38AAeZVCmC09b8NUfb85Uz/jTVdN1lIzmEAAAAcAZ9K\n",
       "akN/AAHmCXzG/N17dSfxUsCqeuwjjJq8nwAAAG5Bm0xJqEFsmUwII//+tSqAACu/L7MVm/OoDOJe\n",
       "9x9Qu0CQ9mhN4T7QzJUtZmqHqcDOcVlirqcYVK2/9Lqshq6z/yi1ukPsOPPZqfbAmeBEmWvvVxTP\n",
       "GfqFpLKGXqj4JG3oZCbheRdMYb7jqdeCQAAAAK5Bm25J4QpSZTBRUsEf/rUqgABZv8QG9sgMy4Mx\n",
       "1wzGiuu5iSmXjQSCDB/y17XqAavT/ezzB4mG8qGGJ/RlAEqJ9IbKXKp7b6Gk7rXPhMUTtFfOSU+b\n",
       "96zYoi3bddFwMoFWdb7MU6E63wukApZDjhdFeDfHLMCFA1g3ZQGBgE/BID4COa6IVEmx/jRmQKna\n",
       "eY/pGCUqG2hXu8TJm1o75YOok720bB3wRR8N2RVAbSUAAAAmAZ+NakN/AAHmVw30XCjj1XiIEim4\n",
       "UP1LY047g7oufCEUNjtlD4EAAAFTQZuSSeEOiZTAgj/+tSqAAFm6N7MhNOsyGACHF2/DzhBQaU/H\n",
       "Kli6Gy++8blvz0+iQ8hVxZtC/XlDNdfW2rMnka0gW/+Qwi3CyyCUiuBfhlvoG81xUYRurN4hv06j\n",
       "WP/kAwERfacwPr40bpxZQkJ/I3jCpqQeJGwHa0JuSdDYV90hmzSbOGH520KvJ1XwdxtW8V6G+QQf\n",
       "PP0uwWfOtQ5pR8TTF+Ty22u59vEbQ5zNJdX0jFajZ7e9fzqzudM7010ffYsebKocIOzX4eYoIF/t\n",
       "BIzoW8A4Kq8pCxT4MZ+DqGszYbFh54RZjSLqzQAeTjRse0Lwdk2jJBeKr3+A062luURdDslMmEKX\n",
       "DgrWXBm1TXXgcl7ZA985Fh4JyYRvM35ZKScIC6/UG2lQpFDyc0FzKYudB9CMnb/k/9DnJ0R7KdNo\n",
       "6k3qfZmimkhBKiEh77tAPlZBAAAAQkGfsEUVPDv/AACuIe+ZoASaxVugocyoJx333g0NCF6ptVeJ\n",
       "q8BtG6k4By3OFdAwmZTphPlr9M4+g7G4kXtMMdt31AAAAC4Bn890Q38AAeZrOftN0RhJDlrXCW8o\n",
       "hKpUftaNO0D2wQQ23eqRx5RNJAdVN9WuAAAAQQGf0WpDfwAA8wU0fARqXRNRZVIjNocECQrb6Hl8\n",
       "iVIgA2RvyzLnukUgENB/7+7AkvBT6G/Zt3KPD0WM/zEtuUetAAABPEGb1kmoQWiZTAgj//61KoAA\n",
       "LJ4MUu/UOb+QQg5qJ1qzbzWJQV94Yx2Y7zFEXyP4K4/m1/7tZFxNKIh4CDQLf/n8BByTytl1MUW6\n",
       "ylsjrTzY+vMEZ1zajqKJBkl72095mB2vHa88e9U8Ql+Lj3XA3ZHbhot4HhKWhQhtWdI4MH+9y2e2\n",
       "QkNtpWdAhmiDz1PxkYaOUxwDm3oROIxxd4dxh/sxNnrmK+pH3XsI59SkpLJ6WgjTqIpEphYb5mAS\n",
       "JHasosMWXiBRxm5CQU9MQ8014hQTDhoE9z+oHSVVGXedkYZY9tSGFvIC/+97n6pD1gmutG7BpLiH\n",
       "1KFNIUjmyVSyFPdg49vGbWB9r/6FuJ/hAzqv3AzK1wKrF7nFPLxDnSHK5M5QRydmr77iNMrmc4gq\n",
       "oRxQK3frktKamL1EYZQAAACCQZ/0RREsO/8AAK4iVLC3bsGxtKPcdg+oZX84AOElpXGq0ZEfK+4Y\n",
       "HlhV+V9tyZ/sgo6/UzNRd7C6dXiOATtGapHYemm08gfSZd74kACCTpaK32T+mP96vI9Ropu+vM7P\n",
       "jDRLxhTcEWSA4BR57B7gA5ydCvEEEx/CZnyPu+8pJj9OswAAAEsBnhN0Q38AAPLwvy6pHF0UPVni\n",
       "70oSUAJclGYB8Sf+3l6nBf+9os/5ufS8dTeDGauy94pQh6ehq0rTQ2p81yiiM24bEccnU6VOvVkA\n",
       "AABTAZ4VakN/AADy9rDYU8DMvexyom/MHQAJoozfQsaRAvbaua/9/0o+bVfnxUiFuL8ufqUDStAU\n",
       "ClErwPqQ9jJRzk53WvxyA3H9lVPMIhPYRCRQJrAAAADaQZoZSahBbJlMCCP//rUqgAAs3RvZb7Hu\n",
       "AJrmHluMk3jkH5BNJyVgRI5SMv/ZkhMAUPh/0VJAsrXLzw1dBHSrvSl9baXATcp/MsHDGww//8TC\n",
       "+5b+g1Gx5G0Su7QJR3vdxW1x5irZmBwVRAYDocwVqtl0BIJxq+4SXvirb4HAfVGuujIwRhnqzHSg\n",
       "eTAEDXHATVVhzXSEqlWlIdlJGhGjRy6MNMh5PMGm4iksg281TRyJ9Eh5MqXwfhCsHUjJm+eyWEaL\n",
       "u4Ru30/kTZ/cCTytE+bTWG8pj4OOTacAAABJQZ43RRUsN/8AAPMbZKy6vz4Z/m/H9H0DXuWi5sol\n",
       "6BmAEtRLv+Q0cifflLqzq7LJk7p+yHzsUjZ2C3JvaN2JMg1fPPEgSPqdgQAAAGABnlhqQ38AAPL2\n",
       "sNDXybvbf+Vi7jeuyE7HsaUoTDACFM/Q8ODi2iDyeUnzOsWuPLZrXkFAD67Ii3+I/p2HK7D1my8U\n",
       "MX0TsyLpq6TOcOSYMsZyYzd5Z9X3U26Xa1frlhAAAAFbQZpdSahBbJlMCCH//qpVAAAsyJSs6LHe\n",
       "/dOIDmENIAE0MMoAnrWSvaE/PglbzGwD/5DCLcLL5hQeFHM4c689JWnMo5PuXQDOmq+FUnR77OUm\n",
       "xF99BtOZqVaMr2AoscSmYnnb4w8Q0ivuhsI6Re6ttmFNr2r4qpenb0tCQomiWSD9RLUR/F71m2tj\n",
       "jaQRLYSCOLF9Jn2/P4+886vCnWP03G3YasNWd8dTBugsduWJMr/p4mPbQQmJiXkc4zWnj7JgYdDL\n",
       "JpOnMi2Ba8muPkpGTR8RKYd/s4EmWPu7E7vwWf9sBJhnR+7WH2INNt4vhJjN2wz6dOscqVL8MRVc\n",
       "srmS44O/ab40uyXvsoFnnBku8jLIefdqrlzl3vFXx1k6VBiu1t+G6aE9FYs+qD391Kkp9fLKqoi/\n",
       "f2R4K3hL1nj+UXJDySLo2MjAT0sZkNYPG4qfShUFe1nB+stGa5EAAAB/QZ57RRUsO/8AAFcQ9+2r\n",
       "rkAa7IqlegCgUSIYZBKCkeAEqkAX2VaMiPoHUAqrg59hXc9WLquvRIhQsIDXPt//1BMGHs+t1Rb2\n",
       "LV6326wISwy6zE3kHXdtGSar5PVGFdk9zZOKJZvC8Cr+LEoBfZvu7nh+/Nd/YR8aTDaw/5gyMAAA\n",
       "AEkBnpp0Q38AAHl4fS7N9aCh6szR3tWY31qy8CQAEQZ+h8JYZLbViAoPvFZp7MZHTa3cwAPvA0tV\n",
       "dPVhRQrOqKE9p5rqRx8arOCBAAAAQQGenGpDfwAAeYJfMb83c7YVBPcg+WTOtbQG9nQAIgz9D4Sw\n",
       "yWa41F3EpQksx8/6thxdpWuLkJ2C/IORlMMB5VmDAAAAq0GagEmoQWyZTAgh//6qVQAALKAnMJmF\n",
       "N715hubRNUO44YZ/0rJP1svjwAquLXNHKxKf+CPOSpOy2SJrhYuuwShVP/xWgoLEx33RpoH8p8T8\n",
       "gCauZUBAa0Jy3WU3dhIDQgQ4xIuKdyRMdTYZbGxdBp/ltdkDHuguRyc7SQxO1hF82b/WuNRnsLNg\n",
       "xrBH9+ce6G7DGvHyk3P/oNSFksRjetSeo6bPPoelAkY3gAAAAGNBnr5FFSw3/wAAeY2tNlfUy865\n",
       "bf4I8/axJIv2QAlqJd//P/NVoYAupSKBsMFU+bEEP933sVMqQfbybk1CMg7AmlSKYfftslvlSwe8\n",
       "GFWkyB1d6oCj+3XR0CvvpBlrPGLWKbUAAABxAZ7fakN/AAB5gl8lJT2Xal4YnUZnIKdHP4ANqiXf\n",
       "25IvogFzg3jGf+dS4els3zKv56pyLCSr/pGeEOV0XTay7uy6Za3v2F+1w4s//GLl30YdIMOUic9k\n",
       "DFnx+H0gpgHcZMITH8XTfUz9msI7zYdZxWUAAADaQZrBSahBbJlMCCP//rUqgAAWU2Zef4OvXEFM\n",
       "FEHWSFiAIlLUb6NyNR7uZnB6nJ8gDttt6MXCy/vLLhOF4NT2Et8l8s6alJqJJEKF8/ou/87DExZi\n",
       "/Dzk7TNczU3XXuA2aawFr84By1xo5r/V2q6kiuIdvAi1DoPd7+cVjW6jtdbtffgQFAaGlMtFqhe1\n",
       "l29RXmXjPQn62mb93UUM5ymujVFQLQ4oJ7F1h9Nw/xBXnr3mBYK+tSBzm62z+vLpsqPqVVfGPBWL\n",
       "jqRcF9AFG0iFMhcpW6OJv9OGXbQAAAEWQZrlSeEKUmUwIIf//qpVAAAs3xkI5Xo2vKZLbXQ7Mh/t\n",
       "UqJzqymPfziU7GqWACUsXIt5KlYpZtx4kbcY+DP/45ehj1z00DycyWLhpYIefI1kDQ0AYfYIe3IW\n",
       "r3lNIVKOfi32NaaD0WQfMK858dJr8BM4AAAHrzO9xV6ERt9DjP7/IkSe97yiN1xow9kwCZLw8Awk\n",
       "wcdiLj2wma0pY/ijrF/8qTkKg00AseI6rZ3bZe8IMovtTIlf/npwAdOqeU2PphRxUsT70nAF9sdH\n",
       "NqT18q/+46kVReFkJEs4pUfm9U8sTcQ2/WIHbdif5+6okXCNjcq/IttwzSPhwutmyoAxAR+R3p26\n",
       "8S+E6Lgj7kyszQ7p5myp47MAAAB+QZ8DRTRMO/8AAFcLpcI735MgJ0DDCYTKmvRgqbf0dbnQNxdA\n",
       "f2bvpkQWsQuOcc3Lc4rW4ARylvLIFYxFv/7vZiE00IskocSAamHU1T/TGjZbUHP0VSsm9Ed6DaO8\n",
       "XO7i2jjpKVb0TmKiPXasBCs4I/6WYwWojZeiq4MypPEgAAAAXAGfInRDfwAAeZV0hRu0Q/xglZ85\n",
       "ar6AGlm1fRkACckTN9CX4M6MukWsciL8YTJj3QVindNuGSVaxYxzqtlqhi8yqRIljH7VQZFfcKm6\n",
       "VxwZHjrha7Bd5rLUuyxNAAAAWQGfJGpDfwAAPMFNMfZ9+VJ/cMohuWDIfA7eRuR/JlgBO3pnTOFi\n",
       "8XxMKoCQdrJ2ek7qKvqzZv/q8XM2wZ/F82Xz4/e90w20j6jNgUYQLJEJxhCsQ1KaIpaHAAAA30Gb\n",
       "JkmoQWiZTAgj//61KoAAAW4mZqE1qsr6ZBALPkT/5/AQcjfPYpvtB+9WxgN3zUNOiw5+uZgNdcfm\n",
       "GmzCdMTbPrQ80oiy/TSfQCerHb0qk4ACjE0LoBWh7oQw4bxKaMrprOE7zH1pyXZSJSS7eeQ3U/uY\n",
       "pJFADXZybLt5Zn3QQ9BCbBAKCeuqBTXkRB76gx0bXgwAXrFBMQMIwGmE6SSWGxrjbkPcwpesf24C\n",
       "cbxQ95Rz8tdbH/3AumifMEiZK9OzUthc/pKLq37MEopZBkZsIrwK2UaIoj3TkUuNltMAAAE8QZtK\n",
       "SeEKUmUwIIf//qpVAAAWUBOZEqMax3/g6rxh03LFZyK8moMAI3ryVKdmzTV6LG84SmUToHXTSk3f\n",
       "68A5LnPWpCpZDjXjP//5J6KRRBHQayvINBalX23paQmhIr9q/q22Uy80IcxkqkURWoWJ5rPpKNGv\n",
       "AFrSxQLqyoKj8PYfUeb34DSPMzbECLRWhgknwd6T960hKxX6wVWWan1r2y82RHtz1XQF/SOz3Jea\n",
       "rK9MaACGs4GV4hpLNTC9z1FJjer12fIjpfghFItwaqwfzQzmlDZln5C1fMe99eIUwxvmsBk2HNK9\n",
       "9eVkdZ0/nkQ2585smHjAAahvrTt7tkZsVmhnZ9iBmxv1tuGkwT498X1ief3AeAa9q96ztB5IT5WR\n",
       "AXCx9uhWIukhOyreavgEAOkox0b7ie+Foq00YQAAAHVBn2hFNEw7/wAAK4utgB7aKyTbttEkdlMq\n",
       "IYQHu5ABxveaujy9DhH7qLaZ+hlQ/EtDeyWKJldvlgUcajrws6bnrMiHvgDNnSeAw5ykJSOX/I3q\n",
       "+ag0oUvcAABY/xhPoipwAQ/seWTrYg57x+vv8z3XHlbwsGAAAABhAZ+HdEN/AAA8x72zFlrpXkI8\n",
       "2JIdc9TJUSQAhTP0PDg2KUi6VvPl8HzW+D34jNR0/7bz3vwgyg0xCelAsJEhGxsTsAoNPnJKUlH2\n",
       "hvlCqDKGI2L1rJgRERrT51NPnDwEvwAAAHMBn4lqQ38AADzBTTH2ffkLv+UU1E5wWfY8vgdKlU1+\n",
       "VWxeLQpY48k/9TABDh/9eGR5furD/9jKR5vNZuC4mhq+DVAx1ET3wMnuxlnkyIOXcqRab9Y7j81/\n",
       "w6CdSKj12P1975kF3vErhVIEnwyfm07CUVLhAAAAl0Gbi0moQWiZTAgj//61KoAAAW/5fa7asGU2\n",
       "mvJoAIEAJSZmWMPn57bkTS0MysTpO3PxjYZ3207TCM/tfstTSVvWW/VG3GEmYtTZJ53Z1u7XwkgM\n",
       "jei4jFQYeDGWoZwu2bUQ5s5LpUM+ALsh/YP6PoMA9ETNy3obhm+AO7vsOe0/3zpbBRxqQ3q8R0Ye\n",
       "pPzzevDvEf18hRgAAAEWQZuvSeEKUmUwII///rUqgAALKa/FpcubbPFhBaKd75p8NwfCIVeBoUUf\n",
       "TJvFl0rjp+vv/Re4DtHVx6AI3tYuGR1uRvohdDjzJ7DqDA538YzeurZPbfpUl1sLcwWAO/U4T0Sb\n",
       "uTDlwz0TncEF4OpLbxze1fYUWW1nMMp5MGbdQ+hW9rTjyXmHvfIHFSleuwFfg3UDr/0mxBpyDt4Q\n",
       "wtRQYNTNAQRVpRN7kSkgI0XCbK8+SUSfSz/Kf2TBfUQruEeEMzA1gWKZgiiun56vRGnr3Nc2ijnh\n",
       "P1PX6knio3CtE8qVcbarJ0x975Iod3LVUF6tLI+jGEFbSiLN5boW/j3plQvY3T+05G6uavCQBW46\n",
       "4w5cFrFqOqAAAACTQZ/NRTRMO/8AACuIlSwt28yzQ5/q5OaSHblAaUopSioAL0m0enw0Hy2b8anq\n",
       "QI4ugFqz0iRv9ARuG6CsVhC1ZQobVzCwf+8uymy+84wzLjvAhrtVffCXn4/fNY2RsZXQAAMvq6Rx\n",
       "uZ0DQlgAQ4KEJdBppMoGbbLm8uL8A+YltJKQw0OEIvXO3N/JB4zOuGZc8JjxAAAAigGf7HRDfwAA\n",
       "PMqhUjb15lcleJRzgi+j4IANk/34mV9RAAsT2F63AP/Uj9g5HOsk8+jzT+OCloBGHKCbH8qQsEAb\n",
       "0vev84kY8ry0Vi8jhQcGyWJ1exAsNNPREvYOClw6fc9v65gCEjIHeQ7n3c+MTvq0FYDaHttrqQf/\n",
       "rAppdbAdtJKfXlr9I8ZbAwAAAHgBn+5qQ38AADzBUlIDvfk2gDKWXJldpx7LG+bkAAIcQRjyAeog\n",
       "AWJ7C9bgIALz0yGeETB1rn/BhF81ImMsc4v5/fpFqya9KHNH/TnQkCdnmqUGHl3juBvMKxHgM362\n",
       "69Ca1jXigwpS2qEkABtVUM6fVE+//K5lfJEAAAErQZvzSahBaJlMCCP//rUqgAALKJjTkSBKyOtM\n",
       "exgJYm9D2G07M2rCY9KBV5GsXFRm+bEJlqJgcIbCGsc14MJft+Po4xLIOaIaA3jP33UHK+AG77eD\n",
       "XaDhH4F9O5Muiu8yCgb51/seIf8qzdgPRc6P/4tnEHq8NUz4NfRnJTiw9gW+SPl9YgUFPojoxZh8\n",
       "u2Jjx3BgSGxYSf8EnU4Wa5I93d1vOzMG96i2nJ0te6OuLAo/BS94n4G77V+V4R9H8lh7fgUjhyEd\n",
       "YAVG7KWvgv2BT0nhM8QOgktvxeWcXMiW68H52991Clx204for39CbgsRB/WpT5CATOvr0ugbcloI\n",
       "QujG15lIXeQtVke/cdWfyeCHgFIeAkOpAqZYYgKITd1Arql0m8ovAmpeFMwAAACuQZ4RRREsO/8A\n",
       "ACuIqs2JsVkkDIJJIeAyFL0Nv/Pao6CyDICQmuiY7o/rJ9PvaibOCsXO4OSOXwjnx2bQK7d3hb8u\n",
       "eyd72hweSpHvQ2OB70oeWQ60waOkjf0oRG94I9fyA4x2eyIFdIzXZA2XKyhmw+z5JnImrO3o46/D\n",
       "1dQQIdKMvklEy8Zrf9mBmHSR0gmlG3nU8t6Bhy8y3+ayO/l9TlIlsbdk8orSqYDZjo2QAAAAdAGe\n",
       "MHRDfwAAPLw+l2b684NGLNQT1A0RbgAnWkImjON3DCvAmD7WnRSet4opqpxSOH2f/z4cTpZFb/i0\n",
       "YqWaVcj9la2Au8byvxJd99o+EUjqCkfaj85E31jqtEqOqqJ/eD7iQavNTUli7XjQMB7ROfhijUpF\n",
       "AAAAegGeMmpDfwAAPMUIEW/I2NtoAS1cl3S1DdWHmCQxlliLfp6naOpXp4b9vqyk0OzVVoJ+Ks7W\n",
       "PNvaosUPZ15umcGj0bFvii9ro7mGb8/24gn9GV90ORgH72oxbXxYo5eCMq9CKXxcXjD3S2nMwI7Q\n",
       "m2IGk4ta1K19KDSgAAABF0GaN0moQWyZTAgj//61KoAACzdG9mPKfjgdlr6PzpxTxL3sDhK8ZSz0\n",
       "sZAAJ1t5a9yy9nPI+7oyjJPMsjhxnkV2WhMpwK2Hj/Lu89PQThudaUB/z8cQOTfQiWbUDzRZCTG1\n",
       "UGPtw16+Z5UkOQiygy5VVHbyihQJPApEkYitixfbr2l5ASzzVptP+obPKGuvqw7Fv75WwSsccxZ7\n",
       "+YIKZfTgbUCRdUf8oUgIVoz63J6/sKFibKvA7B48czbweLtMQBFNqUxRJTjvyW/JFI2tkRYbfZ6L\n",
       "jmKnx5g6L2nGvyehed+B1ogJXPkNNhjRnKI/4MHvvUL1LqTVwVV/O43ZtLIbhooEQ5Yb8DQqDEvK\n",
       "fOFbMQdbm3BQlAAAAIZBnlVFFSw7/wAAFcRVZsTZBazlGwAmr4aVtzMlcHjgE5pnKysPyypLKsO8\n",
       "FUItuGIgqH2ssLU95x/kNtuPYhdZOhzB55+qJ0HcYODqV3sE3TziIuUldFwnIoMbgYCraG3WZ3yy\n",
       "U8nJRc5sT0Go9bNp9UtM6yUEKskvcCf235N31bMIfWtHaQAAAHYBnnR0Q38AAB5lXSFG76remDK9\n",
       "yWsmfay1FIBdPyX1ksuPwARBn6E75t8UrXAK0DurGWY0A5DtI08vFboU1lQaVlwAcvX+y+kwW0dj\n",
       "98ELLS8WWKIzCn70L1dgcs6yrPfRArl11DsPXRMEEd0hkPcCbSZDPCkYAAAAbgGedmpDfwAAHmKE\n",
       "CLqs2HMpWWNGKUqy6WNVNj/+dqvmA1ZoAQm+dqi1ETh7lXYr+sNuy70cYajDdTD2k123XVmi7epS\n",
       "MIVUNIUmkTGTuibhsJkW90QAKu4cke9sGd5lQqBZE74OUf5v5ltPuEEHAAAA30Gae0moQWyZTAgh\n",
       "//6qVQAACyjwSW1HZddW0+jeFcr5QSC2WUOf9SCEIAFr37364Ooy572iwpNWFKqyZm/hairI0Vtt\n",
       "gQ1PjbqjV3xWuvunMys39fNQ2KXXUOD9vx9SC8bqoKlcVlEThC7RM9r9+5Bbl6le1/jVPlRt9azu\n",
       "VHzcxly+Xpo1c2ZqcC250bJwrqubth60GMlJP/KO+UR1LuSQZTZNKvnRsYfn0w2KPaNk/e8NZfei\n",
       "IjdwmRtVacLEnmAUB1hHSe9aj6/mOlJGqHuXehwNnFWwxC57sLCqFxEAAACsQZ6ZRRUsO/8AABXF\n",
       "Xr1fjvRHtFZVzDosVI8/3AmpgtuH+WBqrErjwFd1H4cDg7iOV9wFXb2XaozBTOwlIBPHdKC+64Jy\n",
       "ly+zS9ik51OAiXPkR1//lon9xaTbYbp88xeizBuRpEaaHTX5Dh6E1PqM01T+LfpAxZxnlKFot/L1\n",
       "kkEwi/I5qHlnfkxbduSEPAZeeKNojTAAAFjyG938uQGf2JR8Gw3RTnJTIDfqgAAAAJYBnrh0Q38A\n",
       "AAdBVCpG3v4qsDW8AH5yM5TnXwxHtjDt/cEWFgYj4lbHLvfwp+NZKE7QiHPzfLcfnRTZHv1r6xt1\n",
       "Rg5r3D3q/gVvz+w7TbX0Ckgk84GOsT1e0ZkrecR7zEXM8fvtoc/8xd1fmMQD/pOVnlJrcYuTQ/KH\n",
       "RcfXVqObQ1a/Al9i4juZr10/6meZdjQAvUjlVs0AAABVAZ66akN/AAAeYJfMb8349hUE9yZJlfdo\n",
       "Wnlmy4A6ENjWAAhvy7bK5mUaH6tDBM2gezoY3vMKxHBnWDf+ltzphJeJ//5vzpzEQcTCjlpzXzHv\n",
       "2OF/QAAAAO9Bmr5JqEFsmUwIf//+qZYAACt/SPT7bwz4mH1MAJatp0RJ9rLPL/UWVLFp5eHFQLp2\n",
       "UxfHpabR601DCF3VusYaZILQs4WD7RxWQakWLWZh3YAOPYKVTZYb9xz6IZrKY+9wMuQL/ov3zwyz\n",
       "ycyOBTvqPhYp1QPe2JUJVQyZov2c4k+aB/12P28P5qR0AGOwv9QuivZkP+brT3nKw+EhjktOeoTy\n",
       "ARe4xbrpctW99Gvm769kpK+7Gg8XJ10GeqyGvZS3n95YQxFZU8HdZ9xD21Gv8gkPM9CNpkmjxPoI\n",
       "uxwNq5VxMmCePm5JJ1o7tmuhwQAAAG5BntxFFSw3/wAAHmCXzG/N+Q2RAETXISq8loKYk5omoAMm\n",
       "H3m64f29CQ1Z3Ur5n+5sFm7jw0BThvQA+qni8KP/3hxWCEwRyeDgYPMO82T+n2uBttcjyBUf0hOx\n",
       "exqz226D771R6UEthIqJ6yWPGQAAAHQBnv1qQ38AAB5lKZTXVazHqdaRRF9Yq1zQXsJjChwAEJVZ\n",
       "o39oj3kFKbd9yc+3ulfEj32kg9hBMF2KrXEvOCVA+BT0w0Hj/cWdxbBwjtzuKGRxusBFmF0g9aOl\n",
       "ZrgJjfIA/5XG+V0yYzTVkK8a9WX4zR3TMAAAALZBmv9JqEFsmUwIIf/+qlUAAAsoDVR5SJVFtmfK\n",
       "9jaNgAB+deSpHYKkmnXUkaH6aqf0eaYmglQNwz9Dj+7cHsMwYfVIorNlQJ39XD+cZbshYB3xijiD\n",
       "Ktu3x39OUuKtP24Trgn2a8x4gUh+MvixUoIJ6u3bYqrodGKntfLvGi2W9ElwYAlpt+21GoJd5ho1\n",
       "CU2Ytky8bGhIE93FyHvKiCZoq+noun+bpGsAJoDb94YzrjrdN3bTYAAAAMVBmwNJ4QpSZTAhv/6n\n",
       "hAAAVjzhs2tZcfBypcVGdf/3izzT4VZFA5sAGrmZyfTlGL9Rhf6AT6eV0h1xeFpq4/YedAZPf2PX\n",
       "5m3dQFPbx0m6vqhoGaYq+5i/QOe2hCpnoGzhJTZilY4tPCna+eNlv9mgX0jEvPa0YClWaR3cDTZz\n",
       "ZZ8PoT8LGRyBTfWXQ+yAyHdw2kXiI2M7MDO1d+uTYGm6GSz/ryUnmxMhlSrI9zJh2gkKHvWkJsPx\n",
       "1Wgz9wv8AtVP+JddYQAAANdBnyFFNEw7/wAAFcVevV+OrQQClQfOC5au9gBZYAX2wFd1H4cDg7iO\n",
       "V9wFXb2XbBSeB2Ao4miIkv8KDi3od8VUr3N14WrXYPbuc/CBFUfB5fWtiTOr5qG8M1KSPg5oahaR\n",
       "lDhEypnSQQDLqhXv2cgmFaiAdFNA1PulFTUjm3Bs2F6r94h+7sIdEw0Cr0jcRBVAsrjOBpaStrpR\n",
       "AkX12jJ6jnp393Hv6XNqQqlnlYmebZ9m5gvbXmnnpvdfG5UZJOadwBQ+wQHXLNq5DGGYNUuel7pw\n",
       "8oNmBAAAAJEBn0B0Q38AAB5lXSFG76q/f+ClG5fTrXRnCBk530iIAIWn700fHKrpVf2SAf/f5KXc\n",
       "npYJXDk7phMMYGva0YYjiEypex1sX3dPXxAfPXOXnCqyb0SP84gEOLVIPv5eHz9MYeffvqelYiaB\n",
       "431EASg7wkPMbB5rswGWfaGos+Clu0OcrzrbLNk+AMtLth6Cj2QNAAAAaQGfQmpDfwAAHmCXzG/N\n",
       "+OtWjT8EYSowklQuirTIjJNK0fpilLofAa3Y4/U8TQq18NFMSFvQWEhtdw+7cvcSwAiYpXLJSYdL\n",
       "8CcgNZXd3lwE6fgVZyWG0TxfV3h3HaTyhQbG/Y7Oi8DVgAAAB65tb292AAAAbG12aGQAAAAAAAAA\n",
       "AAAAAAAAAAPoAAAnEAABAAABAAAAAAAAAAAAAAAAAQAAAAAAAAAAAAAAAAAAAAEAAAAAAAAAAAAA\n",
       "AAAAAEAAAAAAAAAAAAAAAAAAAAAAAAAAAAAAAAAAAAAAAAACAAAG2HRyYWsAAABcdGtoZAAAAAMA\n",
       "AAAAAAAAAAAAAAEAAAAAAAAnEAAAAAAAAAAAAAAAAAAAAAAAAQAAAAAAAAAAAAAAAAAAAAEAAAAA\n",
       "AAAAAAAAAAAAAEAAAAABsAAAASAAAAAAACRlZHRzAAAAHGVsc3QAAAAAAAAAAQAAJxAAAAgAAAEA\n",
       "AAAABlBtZGlhAAAAIG1kaGQAAAAAAAAAAAAAAAAAACgAAAGQAFXEAAAAAAAtaGRscgAAAAAAAAAA\n",
       "dmlkZQAAAAAAAAAAAAAAAFZpZGVvSGFuZGxlcgAAAAX7bWluZgAAABR2bWhkAAAAAQAAAAAAAAAA\n",
       "AAAAJGRpbmYAAAAcZHJlZgAAAAAAAAABAAAADHVybCAAAAABAAAFu3N0YmwAAACzc3RzZAAAAAAA\n",
       "AAABAAAAo2F2YzEAAAAAAAAAAQAAAAAAAAAAAAAAAAAAAAABsAEgAEgAAABIAAAAAAAAAAEAAAAA\n",
       "AAAAAAAAAAAAAAAAAAAAAAAAAAAAAAAAAAAAAAAY//8AAAAxYXZjQwFkCBX/4QAYZ2QIFazZQbCW\n",
       "hAAAAwAEAAADAFA8WLZYAQAGaOvjyyLAAAAAHHV1aWRraEDyXyRPxbo5pRvPAyPzAAAAAAAAABhz\n",
       "dHRzAAAAAAAAAAEAAABkAAAEAAAAABRzdHNzAAAAAAAAAAEAAAABAAADAGN0dHMAAAAAAAAAXgAA\n",
       "AAEAAAgAAAAAAQAAFAAAAAABAAAIAAAAAAEAAAAAAAAAAQAABAAAAAABAAAUAAAAAAEAAAgAAAAA\n",
       "AQAAAAAAAAABAAAEAAAAAAEAAAwAAAAAAQAABAAAAAABAAAIAAAAAAEAAAwAAAAAAQAABAAAAAAB\n",
       "AAAQAAAAAAIAAAQAAAAAAQAADAAAAAABAAAEAAAAAAEAABQAAAAAAQAACAAAAAABAAAAAAAAAAEA\n",
       "AAQAAAAAAQAAEAAAAAACAAAEAAAAAAEAAAgAAAAAAQAADAAAAAABAAAEAAAAAAEAAAgAAAAAAQAA\n",
       "FAAAAAABAAAIAAAAAAEAAAAAAAAAAQAABAAAAAABAAAMAAAAAAEAAAQAAAAAAQAACAAAAAABAAAQ\n",
       "AAAAAAIAAAQAAAAAAQAAFAAAAAABAAAIAAAAAAEAAAAAAAAAAQAABAAAAAABAAAIAAAAAAEAAAwA\n",
       "AAAAAQAABAAAAAABAAAUAAAAAAEAAAgAAAAAAQAAAAAAAAABAAAEAAAAAAEAABQAAAAAAQAACAAA\n",
       "AAABAAAAAAAAAAEAAAQAAAAAAQAAEAAAAAACAAAEAAAAAAEAABQAAAAAAQAACAAAAAABAAAAAAAA\n",
       "AAEAAAQAAAAAAQAAEAAAAAACAAAEAAAAAAEAAAgAAAAAAQAAFAAAAAABAAAIAAAAAAEAAAAAAAAA\n",
       "AQAABAAAAAABAAAIAAAAAAEAABQAAAAAAQAACAAAAAABAAAAAAAAAAEAAAQAAAAAAQAACAAAAAAB\n",
       "AAAUAAAAAAEAAAgAAAAAAQAAAAAAAAABAAAEAAAAAAEAABQAAAAAAQAACAAAAAABAAAAAAAAAAEA\n",
       "AAQAAAAAAQAAFAAAAAABAAAIAAAAAAEAAAAAAAAAAQAABAAAAAABAAAUAAAAAAEAAAgAAAAAAQAA\n",
       "AAAAAAABAAAEAAAAAAEAABAAAAAAAgAABAAAAAABAAAIAAAAAAEAABQAAAAAAQAACAAAAAABAAAA\n",
       "AAAAAAEAAAQAAAAAHHN0c2MAAAAAAAAAAQAAAAEAAABkAAAAAQAAAaRzdHN6AAAAAAAAAAAAAABk\n",
       "AAAKlAAAAXMAAABHAAAAMwAAAFUAAAEOAAAAaAAAAEkAAAAkAAAAqgAAACoAAAAzAAAAmQAAACMA\n",
       "AAC9AAAAJQAAAB4AAACNAAAAIAAAAG0AAABAAAAAJQAAAB8AAAC6AAAAIwAAAB8AAABvAAAAYwAA\n",
       "ACAAAACVAAAAwAAAAEYAAAAhAAAAIQAAAL8AAAA5AAAAhgAAAPoAAAAsAAAAJQAAAPwAAAArAAAA\n",
       "IgAAACAAAAByAAAAsgAAACoAAAFXAAAARgAAADIAAABFAAABQAAAAIYAAABPAAAAVwAAAN4AAABN\n",
       "AAAAZAAAAV8AAACDAAAATQAAAEUAAACvAAAAZwAAAHUAAADeAAABGgAAAIIAAABgAAAAXQAAAOMA\n",
       "AAFAAAAAeQAAAGUAAAB3AAAAmwAAARoAAACXAAAAjgAAAHwAAAEvAAAAsgAAAHgAAAB+AAABGwAA\n",
       "AIoAAAB6AAAAcgAAAOMAAACwAAAAmgAAAFkAAADzAAAAcgAAAHgAAAC6AAAAyQAAANsAAACVAAAA\n",
       "bQAAABRzdGNvAAAAAAAAAAEAAAAsAAAAYnVkdGEAAABabWV0YQAAAAAAAAAhaGRscgAAAAAAAAAA\n",
       "bWRpcmFwcGwAAAAAAAAAAAAAAAAtaWxzdAAAACWpdG9vAAAAHWRhdGEAAAABAAAAAExhdmY1OC4y\n",
       "MC4xMDA=\n",
       "\">\n",
       "  Your browser does not support the video tag.\n",
       "</video>"
      ],
      "text/plain": [
       "<matplotlib.animation.FuncAnimation at 0x15ad12a8b70>"
      ]
     },
     "execution_count": 128,
     "metadata": {},
     "output_type": "execute_result"
    }
   ],
   "source": [
    "sim = animation.FuncAnimation(fig, update_hist, interval = 100, repeat = True, frames = 100)\n",
    "rc('animation', html='html5')\n",
    "sim"
   ]
  },
  {
   "cell_type": "code",
   "execution_count": 134,
   "metadata": {},
   "outputs": [
    {
     "data": {
      "image/png": "[encoded data removed]",
      "text/plain": [
       "<Figure size 1440x432 with 2 Axes>"
      ]
     },
     "metadata": {
      "needs_background": "light"
     },
     "output_type": "display_data"
    }
   ],
   "source": [
    "fig, ax = plt.subplots(1,2, figsize = (20,6))"
   ]
  },
  {
   "cell_type": "code",
   "execution_count": null,
   "metadata": {},
   "outputs": [],
   "source": []
  }
 ],
 "metadata": {
  "kernelspec": {
   "display_name": "Python 3",
   "language": "python",
   "name": "python3"
  },
  "language_info": {
   "codemirror_mode": {
    "name": "ipython",
    "version": 3
   },
   "file_extension": ".py",
   "mimetype": "text/x-python",
   "name": "python",
   "nbconvert_exporter": "python",
   "pygments_lexer": "ipython3",
   "version": "3.7.3"
  }
 },
 "nbformat": 4,
 "nbformat_minor": 2
}
